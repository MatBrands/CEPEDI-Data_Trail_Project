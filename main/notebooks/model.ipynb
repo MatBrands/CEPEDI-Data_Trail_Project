{
 "cells": [
  {
   "cell_type": "code",
   "execution_count": 1,
   "metadata": {},
   "outputs": [],
   "source": [
    "import pandas as pd\n",
    "\n",
    "from sklearn.tree import DecisionTreeRegressor\n",
    "from sklearn.svm import SVR\n",
    "from sklearn.neighbors import KNeighborsRegressor\n",
    "from sklearn.ensemble import RandomForestRegressor\n",
    "\n",
    "from sklearn.model_selection import train_test_split\n",
    "from sklearn.preprocessing import MinMaxScaler, StandardScaler\n",
    "from sklearn.preprocessing import OneHotEncoder\n",
    "from sklearn.pipeline import Pipeline\n",
    "from sklearn.compose import ColumnTransformer"
   ]
  },
  {
   "cell_type": "markdown",
   "metadata": {},
   "source": [
    "## Carregar os dados"
   ]
  },
  {
   "cell_type": "code",
   "execution_count": 2,
   "metadata": {},
   "outputs": [
    {
     "data": {
      "text/html": [
       "<div>\n",
       "<style scoped>\n",
       "    .dataframe tbody tr th:only-of-type {\n",
       "        vertical-align: middle;\n",
       "    }\n",
       "\n",
       "    .dataframe tbody tr th {\n",
       "        vertical-align: top;\n",
       "    }\n",
       "\n",
       "    .dataframe thead th {\n",
       "        text-align: right;\n",
       "    }\n",
       "</style>\n",
       "<table border=\"1\" class=\"dataframe\">\n",
       "  <thead>\n",
       "    <tr style=\"text-align: right;\">\n",
       "      <th></th>\n",
       "      <th>company</th>\n",
       "      <th>typename</th>\n",
       "      <th>screen_resolution</th>\n",
       "      <th>cpu_manufacturer</th>\n",
       "      <th>cpu</th>\n",
       "      <th>gpu_manufacturer</th>\n",
       "      <th>ram_gb</th>\n",
       "      <th>type_storage</th>\n",
       "      <th>hdd_gb</th>\n",
       "      <th>ssd_gb</th>\n",
       "      <th>hybrid_gb</th>\n",
       "      <th>flash_storage_gb</th>\n",
       "      <th>opsys</th>\n",
       "      <th>price_euros</th>\n",
       "    </tr>\n",
       "  </thead>\n",
       "  <tbody>\n",
       "    <tr>\n",
       "      <th>0</th>\n",
       "      <td>Apple</td>\n",
       "      <td>Ultrabook</td>\n",
       "      <td>2560x1600</td>\n",
       "      <td>Intel</td>\n",
       "      <td>Others Intel</td>\n",
       "      <td>Intel</td>\n",
       "      <td>8</td>\n",
       "      <td>ssd</td>\n",
       "      <td>0</td>\n",
       "      <td>128</td>\n",
       "      <td>0</td>\n",
       "      <td>0</td>\n",
       "      <td>macOS</td>\n",
       "      <td>1339.69</td>\n",
       "    </tr>\n",
       "    <tr>\n",
       "      <th>1</th>\n",
       "      <td>Apple</td>\n",
       "      <td>Ultrabook</td>\n",
       "      <td>1440x900</td>\n",
       "      <td>Intel</td>\n",
       "      <td>Others Intel</td>\n",
       "      <td>Intel</td>\n",
       "      <td>8</td>\n",
       "      <td>flash storage</td>\n",
       "      <td>0</td>\n",
       "      <td>0</td>\n",
       "      <td>0</td>\n",
       "      <td>128</td>\n",
       "      <td>macOS</td>\n",
       "      <td>898.94</td>\n",
       "    </tr>\n",
       "    <tr>\n",
       "      <th>2</th>\n",
       "      <td>HP</td>\n",
       "      <td>Notebook</td>\n",
       "      <td>1920x1080</td>\n",
       "      <td>Intel</td>\n",
       "      <td>Intel Core i5</td>\n",
       "      <td>Intel</td>\n",
       "      <td>8</td>\n",
       "      <td>ssd</td>\n",
       "      <td>0</td>\n",
       "      <td>256</td>\n",
       "      <td>0</td>\n",
       "      <td>0</td>\n",
       "      <td>Outros</td>\n",
       "      <td>575.00</td>\n",
       "    </tr>\n",
       "    <tr>\n",
       "      <th>3</th>\n",
       "      <td>Apple</td>\n",
       "      <td>Ultrabook</td>\n",
       "      <td>2880x1800</td>\n",
       "      <td>Intel</td>\n",
       "      <td>Others Intel</td>\n",
       "      <td>AMD</td>\n",
       "      <td>16</td>\n",
       "      <td>ssd</td>\n",
       "      <td>0</td>\n",
       "      <td>512</td>\n",
       "      <td>0</td>\n",
       "      <td>0</td>\n",
       "      <td>macOS</td>\n",
       "      <td>2537.45</td>\n",
       "    </tr>\n",
       "    <tr>\n",
       "      <th>4</th>\n",
       "      <td>Apple</td>\n",
       "      <td>Ultrabook</td>\n",
       "      <td>2560x1600</td>\n",
       "      <td>Intel</td>\n",
       "      <td>Others Intel</td>\n",
       "      <td>Intel</td>\n",
       "      <td>8</td>\n",
       "      <td>ssd</td>\n",
       "      <td>0</td>\n",
       "      <td>256</td>\n",
       "      <td>0</td>\n",
       "      <td>0</td>\n",
       "      <td>macOS</td>\n",
       "      <td>1803.60</td>\n",
       "    </tr>\n",
       "  </tbody>\n",
       "</table>\n",
       "</div>"
      ],
      "text/plain": [
       "  company   typename screen_resolution cpu_manufacturer            cpu  \\\n",
       "0   Apple  Ultrabook         2560x1600            Intel   Others Intel   \n",
       "1   Apple  Ultrabook          1440x900            Intel   Others Intel   \n",
       "2      HP   Notebook         1920x1080            Intel  Intel Core i5   \n",
       "3   Apple  Ultrabook         2880x1800            Intel   Others Intel   \n",
       "4   Apple  Ultrabook         2560x1600            Intel   Others Intel   \n",
       "\n",
       "  gpu_manufacturer  ram_gb   type_storage  hdd_gb  ssd_gb  hybrid_gb  \\\n",
       "0            Intel       8            ssd       0     128          0   \n",
       "1            Intel       8  flash storage       0       0          0   \n",
       "2            Intel       8            ssd       0     256          0   \n",
       "3              AMD      16            ssd       0     512          0   \n",
       "4            Intel       8            ssd       0     256          0   \n",
       "\n",
       "   flash_storage_gb   opsys  price_euros  \n",
       "0                 0   macOS      1339.69  \n",
       "1               128   macOS       898.94  \n",
       "2                 0  Outros       575.00  \n",
       "3                 0   macOS      2537.45  \n",
       "4                 0   macOS      1803.60  "
      ]
     },
     "execution_count": 2,
     "metadata": {},
     "output_type": "execute_result"
    }
   ],
   "source": [
    "laptop_price = pd.read_pickle(\"../datasets/processed/laptop_price.pkl\")\n",
    "laptop_price = laptop_price.drop(columns=['product', 'gpu', 'weight_kg', 'inches'])\n",
    "laptop_price.head()"
   ]
  },
  {
   "cell_type": "markdown",
   "metadata": {},
   "source": [
    "## Dividir dados em treino e teste"
   ]
  },
  {
   "cell_type": "code",
   "execution_count": 3,
   "metadata": {},
   "outputs": [
    {
     "data": {
      "text/plain": [
       "((833, 13), (833,), (209, 13), (209,), (261, 13), (261,))"
      ]
     },
     "execution_count": 3,
     "metadata": {},
     "output_type": "execute_result"
    }
   ],
   "source": [
    "y = laptop_price['price_euros']\n",
    "X = laptop_price.drop(columns='price_euros')\n",
    "\n",
    "x_train, x_test, y_train, y_test = train_test_split(X, y, test_size=0.2)\n",
    "x_train, x_val, y_train, y_val = train_test_split(x_train, y_train, test_size=0.2) \n",
    "\n",
    "x_train.shape, y_train.shape, x_val.shape, y_val.shape, x_test.shape, y_test.shape"
   ]
  },
  {
   "cell_type": "markdown",
   "metadata": {},
   "source": [
    "## Normalizar dados"
   ]
  },
  {
   "cell_type": "code",
   "execution_count": 4,
   "metadata": {},
   "outputs": [
    {
     "name": "stdout",
     "output_type": "stream",
     "text": [
      "RandomForestRegressor: 0.5785655610755829\n",
      "KneighborsRegressor: 0.5167587173420367\n",
      "SVC: 0.0027147824854795166\n",
      "DecisionTreeRegressor: 0.5780359481198679\n"
     ]
    }
   ],
   "source": [
    "categorical_features = ['company', 'typename', 'screen_resolution', 'cpu_manufacturer', 'gpu_manufacturer']\n",
    "one_hot_enconder = OneHotEncoder(handle_unknown=\"ignore\", sparse=False)\n",
    "\n",
    "preprocessor = ColumnTransformer(\n",
    "    transformers=[\n",
    "        (\"ohe\", one_hot_enconder, categorical_features)\n",
    "    ]\n",
    ")\n",
    "\n",
    "models = {'RandomForestRegressor': RandomForestRegressor(n_estimators=200), \n",
    "          'KneighborsRegressor':KNeighborsRegressor(), \n",
    "          'SVC': SVR(), \n",
    "          'DecisionTreeRegressor': DecisionTreeRegressor()}\n",
    "\n",
    "\n",
    "for name, current_model in models.items():\n",
    "    model = Pipeline(\n",
    "        steps=[\n",
    "            (\"preprocessor\", preprocessor),\n",
    "            (\"classifier\", current_model)\n",
    "        ]\n",
    "    )\n",
    "    \n",
    "    model.fit(x_train, y_train)\n",
    "    score = model.score(x_val, y_val)\n",
    "\n",
    "    print(f\"{name}: {score}\")"
   ]
  }
 ],
 "metadata": {
  "kernelspec": {
   "display_name": "Python 3.9.13 ('base')",
   "language": "python",
   "name": "python3"
  },
  "language_info": {
   "codemirror_mode": {
    "name": "ipython",
    "version": 3
   },
   "file_extension": ".py",
   "mimetype": "text/x-python",
   "name": "python",
   "nbconvert_exporter": "python",
   "pygments_lexer": "ipython3",
   "version": "3.9.13"
  },
  "orig_nbformat": 4,
  "vscode": {
   "interpreter": {
    "hash": "d674aba619e9128d5d95f68874c090de0e48b8e67c1ba838c5d294b8a6cf0663"
   }
  }
 },
 "nbformat": 4,
 "nbformat_minor": 2
}
