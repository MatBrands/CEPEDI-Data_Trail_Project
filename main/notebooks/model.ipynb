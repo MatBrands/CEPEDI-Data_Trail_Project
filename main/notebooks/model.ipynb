{
 "cells": [
  {
   "cell_type": "code",
   "execution_count": 721,
   "metadata": {},
   "outputs": [],
   "source": [
    "from sklearn.model_selection import train_test_split\n",
    "from sklearn.model_selection import GridSearchCV\n",
    "\n",
    "from sklearn.preprocessing import LabelEncoder\n",
    "\n",
    "from sklearn.ensemble import RandomForestRegressor\n",
    "from sklearn.neighbors import KNeighborsRegressor\n",
    "from sklearn.tree import DecisionTreeRegressor\n",
    "from sklearn.linear_model import LinearRegression\n",
    "\n",
    "from sklearn.metrics import r2_score, mean_absolute_error\n",
    "\n",
    "import pandas as pd\n",
    "import numpy as np"
   ]
  },
  {
   "cell_type": "markdown",
   "metadata": {},
   "source": [
    "## Carregar os dados"
   ]
  },
  {
   "cell_type": "code",
   "execution_count": 722,
   "metadata": {},
   "outputs": [
    {
     "data": {
      "text/html": [
       "<div>\n",
       "<style scoped>\n",
       "    .dataframe tbody tr th:only-of-type {\n",
       "        vertical-align: middle;\n",
       "    }\n",
       "\n",
       "    .dataframe tbody tr th {\n",
       "        vertical-align: top;\n",
       "    }\n",
       "\n",
       "    .dataframe thead th {\n",
       "        text-align: right;\n",
       "    }\n",
       "</style>\n",
       "<table border=\"1\" class=\"dataframe\">\n",
       "  <thead>\n",
       "    <tr style=\"text-align: right;\">\n",
       "      <th></th>\n",
       "      <th>company</th>\n",
       "      <th>typename</th>\n",
       "      <th>inches</th>\n",
       "      <th>screen_resolution</th>\n",
       "      <th>cpu_manufacturer</th>\n",
       "      <th>cpu_frequency</th>\n",
       "      <th>gpu_manufacturer</th>\n",
       "      <th>ram_gb</th>\n",
       "      <th>memory_0_gb</th>\n",
       "      <th>memory_0_type</th>\n",
       "      <th>memory_1_gb</th>\n",
       "      <th>memory_1_type</th>\n",
       "      <th>opsys</th>\n",
       "      <th>weight_kg</th>\n",
       "      <th>price_euros</th>\n",
       "    </tr>\n",
       "  </thead>\n",
       "  <tbody>\n",
       "    <tr>\n",
       "      <th>0</th>\n",
       "      <td>Apple</td>\n",
       "      <td>Ultrabook</td>\n",
       "      <td>13.3</td>\n",
       "      <td>2560x1600</td>\n",
       "      <td>Intel</td>\n",
       "      <td>2.3</td>\n",
       "      <td>Intel</td>\n",
       "      <td>8</td>\n",
       "      <td>128</td>\n",
       "      <td>ssd</td>\n",
       "      <td>0</td>\n",
       "      <td>0</td>\n",
       "      <td>macOS</td>\n",
       "      <td>1.37</td>\n",
       "      <td>1339.69</td>\n",
       "    </tr>\n",
       "    <tr>\n",
       "      <th>1</th>\n",
       "      <td>Apple</td>\n",
       "      <td>Ultrabook</td>\n",
       "      <td>13.3</td>\n",
       "      <td>1440x900</td>\n",
       "      <td>Intel</td>\n",
       "      <td>1.8</td>\n",
       "      <td>Intel</td>\n",
       "      <td>8</td>\n",
       "      <td>128</td>\n",
       "      <td>flash storage</td>\n",
       "      <td>0</td>\n",
       "      <td>0</td>\n",
       "      <td>macOS</td>\n",
       "      <td>1.34</td>\n",
       "      <td>898.94</td>\n",
       "    </tr>\n",
       "    <tr>\n",
       "      <th>2</th>\n",
       "      <td>HP</td>\n",
       "      <td>Notebook</td>\n",
       "      <td>15.6</td>\n",
       "      <td>1920x1080</td>\n",
       "      <td>Intel</td>\n",
       "      <td>2.5</td>\n",
       "      <td>Intel</td>\n",
       "      <td>8</td>\n",
       "      <td>256</td>\n",
       "      <td>ssd</td>\n",
       "      <td>0</td>\n",
       "      <td>0</td>\n",
       "      <td>Outros</td>\n",
       "      <td>1.86</td>\n",
       "      <td>575.00</td>\n",
       "    </tr>\n",
       "    <tr>\n",
       "      <th>3</th>\n",
       "      <td>Apple</td>\n",
       "      <td>Ultrabook</td>\n",
       "      <td>15.4</td>\n",
       "      <td>2880x1800</td>\n",
       "      <td>Intel</td>\n",
       "      <td>2.7</td>\n",
       "      <td>AMD</td>\n",
       "      <td>16</td>\n",
       "      <td>512</td>\n",
       "      <td>ssd</td>\n",
       "      <td>0</td>\n",
       "      <td>0</td>\n",
       "      <td>macOS</td>\n",
       "      <td>1.83</td>\n",
       "      <td>2537.45</td>\n",
       "    </tr>\n",
       "    <tr>\n",
       "      <th>4</th>\n",
       "      <td>Apple</td>\n",
       "      <td>Ultrabook</td>\n",
       "      <td>13.3</td>\n",
       "      <td>2560x1600</td>\n",
       "      <td>Intel</td>\n",
       "      <td>3.1</td>\n",
       "      <td>Intel</td>\n",
       "      <td>8</td>\n",
       "      <td>256</td>\n",
       "      <td>ssd</td>\n",
       "      <td>0</td>\n",
       "      <td>0</td>\n",
       "      <td>macOS</td>\n",
       "      <td>1.37</td>\n",
       "      <td>1803.60</td>\n",
       "    </tr>\n",
       "  </tbody>\n",
       "</table>\n",
       "</div>"
      ],
      "text/plain": [
       "  company   typename  inches screen_resolution cpu_manufacturer  \\\n",
       "0   Apple  Ultrabook    13.3         2560x1600            Intel   \n",
       "1   Apple  Ultrabook    13.3          1440x900            Intel   \n",
       "2      HP   Notebook    15.6         1920x1080            Intel   \n",
       "3   Apple  Ultrabook    15.4         2880x1800            Intel   \n",
       "4   Apple  Ultrabook    13.3         2560x1600            Intel   \n",
       "\n",
       "   cpu_frequency gpu_manufacturer  ram_gb  memory_0_gb  memory_0_type  \\\n",
       "0            2.3            Intel       8          128            ssd   \n",
       "1            1.8            Intel       8          128  flash storage   \n",
       "2            2.5            Intel       8          256            ssd   \n",
       "3            2.7              AMD      16          512            ssd   \n",
       "4            3.1            Intel       8          256            ssd   \n",
       "\n",
       "   memory_1_gb memory_1_type   opsys  weight_kg  price_euros  \n",
       "0            0             0   macOS       1.37      1339.69  \n",
       "1            0             0   macOS       1.34       898.94  \n",
       "2            0             0  Outros       1.86       575.00  \n",
       "3            0             0   macOS       1.83      2537.45  \n",
       "4            0             0   macOS       1.37      1803.60  "
      ]
     },
     "execution_count": 722,
     "metadata": {},
     "output_type": "execute_result"
    }
   ],
   "source": [
    "df = pd.read_pickle(\"..//datasets/processed/laptop_price.pkl\")\n",
    "df.head()"
   ]
  },
  {
   "cell_type": "code",
   "execution_count": 723,
   "metadata": {},
   "outputs": [],
   "source": [
    "features = df.drop(columns='price_euros')\n",
    "for item in ['company', 'typename', 'screen_resolution', 'cpu_manufacturer', 'gpu_manufacturer', 'memory_0_type', 'memory_1_type', 'opsys']:\n",
    "    features[item] = LabelEncoder().fit_transform(features[item])\n",
    "target = df.price_euros\n",
    "\n",
    "train_x, test_x, train_y, test_y = train_test_split(features, target, test_size=0.3)"
   ]
  },
  {
   "cell_type": "code",
   "execution_count": 725,
   "metadata": {},
   "outputs": [
    {
     "name": "stdout",
     "output_type": "stream",
     "text": [
      "Algorithm: Random Forest Regressor\n",
      "R2 score: 0.82\n",
      "Mean Absolute Error: 193.54309044726585\n",
      "********************************************************\n",
      "Algorithm: KNeighbors Regressor\n",
      "R2 score: 0.68\n",
      "Mean Absolute Error: 249.95386700767264\n",
      "********************************************************\n",
      "Algorithm: Decision Tree Regressor\n",
      "R2 score: 0.69\n",
      "Mean Absolute Error: 242.48589514066495\n",
      "********************************************************\n",
      "Algorithm: Linear Regression\n",
      "R2 score: 0.67\n",
      "Mean Absolute Error: 275.26580108264704\n",
      "********************************************************\n"
     ]
    }
   ],
   "source": [
    "models = {\n",
    "    'Random Forest Regressor': RandomForestRegressor(),\n",
    "    'KNeighbors Regressor': KNeighborsRegressor(),\n",
    "    'Decision Tree Regressor': DecisionTreeRegressor(),\n",
    "    'Linear Regression': LinearRegression()\n",
    "}\n",
    "\n",
    "for name, model_ in models.items():\n",
    "    model = model_\n",
    "    model.fit(train_x, train_y)\n",
    "    pred_y = model.predict(test_x)\n",
    "    print(f'Algorithm: {name}',)\n",
    "    print(f'R2 score: {r2_score(test_y,pred_y):.02f}',)\n",
    "    print('Mean Absolute Error:', mean_absolute_error(test_y,pred_y))\n",
    "    print('********************************************************')"
   ]
  },
  {
   "cell_type": "markdown",
   "metadata": {},
   "source": [
    "## Random Forest Regression"
   ]
  },
  {
   "cell_type": "code",
   "execution_count": 726,
   "metadata": {},
   "outputs": [
    {
     "name": "stdout",
     "output_type": "stream",
     "text": [
      "R2 score: 0.80\n",
      "Mean Absolute Error: 200.95658639108356\n"
     ]
    }
   ],
   "source": [
    "model = RandomForestRegressor(bootstrap=True, max_depth=80, max_features=3, min_samples_leaf=3, min_samples_split=8, n_estimators=100)\n",
    "model.fit(train_x, train_y)\n",
    "pred_y = model.predict(test_x)\n",
    "print(f'R2 score: {r2_score(test_y,pred_y):.02f}',)\n",
    "print('Mean Absolute Error:', mean_absolute_error(test_y,pred_y))"
   ]
  },
  {
   "cell_type": "code",
   "execution_count": 727,
   "metadata": {},
   "outputs": [],
   "source": [
    "# param_grid = {\n",
    "#     'bootstrap': [True],\n",
    "#     'max_depth': [80, 90, 100, 110],\n",
    "#     'max_features': [2, 3],\n",
    "#     'min_samples_leaf': [3, 4, 5],\n",
    "#     'min_samples_split': [8, 10, 12],\n",
    "#     'n_estimators': [100, 200, 300, 1000]\n",
    "# }\n",
    "# grid = GridSearchCV(RandomForestRegressor(), param_grid)\n",
    "# grid.fit(train_x, train_y)\n",
    "# grid.best_params_"
   ]
  },
  {
   "cell_type": "markdown",
   "metadata": {},
   "source": [
    "## KNeighbors Regression"
   ]
  },
  {
   "cell_type": "code",
   "execution_count": 728,
   "metadata": {},
   "outputs": [
    {
     "name": "stdout",
     "output_type": "stream",
     "text": [
      "R2 score: 0.68\n",
      "Mean Absolute Error: 253.52694799658994\n"
     ]
    }
   ],
   "source": [
    "model = KNeighborsRegressor(n_neighbors=3)\n",
    "model.fit(train_x, train_y)\n",
    "pred_y = model.predict(test_x)\n",
    "print(f'R2 score: {r2_score(test_y,pred_y):.02f}',)\n",
    "print('Mean Absolute Error:', mean_absolute_error(test_y,pred_y))"
   ]
  },
  {
   "cell_type": "code",
   "execution_count": 729,
   "metadata": {},
   "outputs": [],
   "source": [
    "# param_grid = dict(n_neighbors=np.arange(1, 100))\n",
    "# grid = GridSearchCV(KNeighborsRegressor(), param_grid)\n",
    "# grid.fit(train_x, train_y)\n",
    "# grid.best_params_"
   ]
  },
  {
   "cell_type": "markdown",
   "metadata": {},
   "source": [
    "## Decision Tree Regression"
   ]
  },
  {
   "cell_type": "code",
   "execution_count": 730,
   "metadata": {},
   "outputs": [
    {
     "name": "stdout",
     "output_type": "stream",
     "text": [
      "R2 score: 0.71\n",
      "Mean Absolute Error: 258.53713820236214\n"
     ]
    }
   ],
   "source": [
    "model = DecisionTreeRegressor(max_depth= 12, max_features= 'sqrt', max_leaf_nodes= 90, min_samples_leaf= 1, splitter= 'best')\n",
    "model.fit(train_x, train_y)\n",
    "pred_y = model.predict(test_x)\n",
    "print(f'R2 score: {r2_score(test_y,pred_y):.02f}',)\n",
    "print('Mean Absolute Error:', mean_absolute_error(test_y,pred_y))"
   ]
  },
  {
   "cell_type": "code",
   "execution_count": 731,
   "metadata": {},
   "outputs": [],
   "source": [
    "# param_grid={\"splitter\":[\"best\",\"random\"],\n",
    "#            \"max_depth\" : [1,3,5,7,9,11,12],\n",
    "#            \"min_samples_leaf\":[1,2,3,4,5,6,7,8,9,10],\n",
    "#            \"max_features\":[\"log2\",\"sqrt\"],\n",
    "#            \"max_leaf_nodes\":[10,20,30,40,50,60,70,80,90]\n",
    "# }\n",
    "\n",
    "# grid = GridSearchCV(DecisionTreeRegressor(), param_grid)\n",
    "# grid.fit(train_x, train_y)\n",
    "# grid.best_params_"
   ]
  },
  {
   "cell_type": "markdown",
   "metadata": {},
   "source": [
    "## Linear Regression"
   ]
  },
  {
   "cell_type": "code",
   "execution_count": 732,
   "metadata": {},
   "outputs": [
    {
     "name": "stdout",
     "output_type": "stream",
     "text": [
      "R2 score: 0.67\n",
      "Mean Absolute Error: 274.93784437438467\n"
     ]
    }
   ],
   "source": [
    "model = LinearRegression(copy_X=True, fit_intercept=False, n_jobs=1, positive=False)\n",
    "model.fit(train_x, train_y)\n",
    "pred_y = model.predict(test_x)\n",
    "print(f'R2 score: {r2_score(test_y,pred_y):.02f}',)\n",
    "print('Mean Absolute Error:', mean_absolute_error(test_y,pred_y))"
   ]
  },
  {
   "cell_type": "code",
   "execution_count": 733,
   "metadata": {},
   "outputs": [],
   "source": [
    "# param_grid = {\n",
    "#     'copy_X': [True, False],\n",
    "#     'fit_intercept': [True, False],\n",
    "#     'n_jobs': np.arange(1, 100),\n",
    "#     'positive': [True, False]\n",
    "# }\n",
    "\n",
    "# grid = GridSearchCV(LinearRegression(), param_grid)\n",
    "# grid.fit(train_x, train_y)\n",
    "# grid.best_params_"
   ]
  }
 ],
 "metadata": {
  "kernelspec": {
   "display_name": "Python 3.10.6 ('cepedi-project-venv')",
   "language": "python",
   "name": "python3"
  },
  "language_info": {
   "codemirror_mode": {
    "name": "ipython",
    "version": 3
   },
   "file_extension": ".py",
   "mimetype": "text/x-python",
   "name": "python",
   "nbconvert_exporter": "python",
   "pygments_lexer": "ipython3",
   "version": "3.10.6"
  },
  "orig_nbformat": 4,
  "vscode": {
   "interpreter": {
    "hash": "29bd4f0295a37482d05c2003186e48db6ac8caeebd23b050776b94d346ae512e"
   }
  }
 },
 "nbformat": 4,
 "nbformat_minor": 2
}
