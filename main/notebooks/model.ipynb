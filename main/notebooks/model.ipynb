{
 "cells": [
  {
   "cell_type": "code",
   "execution_count": 1,
   "metadata": {},
   "outputs": [],
   "source": [
    "import pandas as pd\n",
    "from tensorflow.keras import Sequential\n",
    "from tensorflow.keras import layers\n",
    "from sklearn.model_selection import train_test_split\n",
    "import matplotlib.pyplot as plt\n",
    "from sklearn.preprocessing import MinMaxScaler\n",
    "from sklearn.neighbors import KNeighborsClassifier\n",
    "from sklearn.ensemble import RandomForestClassifier"
   ]
  },
  {
   "cell_type": "markdown",
   "metadata": {},
   "source": [
    "## Carregar os dados"
   ]
  },
  {
   "cell_type": "code",
   "execution_count": 2,
   "metadata": {},
   "outputs": [
    {
     "data": {
      "text/html": [
       "<div>\n",
       "<style scoped>\n",
       "    .dataframe tbody tr th:only-of-type {\n",
       "        vertical-align: middle;\n",
       "    }\n",
       "\n",
       "    .dataframe tbody tr th {\n",
       "        vertical-align: top;\n",
       "    }\n",
       "\n",
       "    .dataframe thead th {\n",
       "        text-align: right;\n",
       "    }\n",
       "</style>\n",
       "<table border=\"1\" class=\"dataframe\">\n",
       "  <thead>\n",
       "    <tr style=\"text-align: right;\">\n",
       "      <th></th>\n",
       "      <th>long_hair</th>\n",
       "      <th>forehead_width_cm</th>\n",
       "      <th>forehead_height_cm</th>\n",
       "      <th>nose_wide</th>\n",
       "      <th>nose_long</th>\n",
       "      <th>lips_thin</th>\n",
       "      <th>distance_nose_to_lip_long</th>\n",
       "      <th>gender</th>\n",
       "    </tr>\n",
       "  </thead>\n",
       "  <tbody>\n",
       "    <tr>\n",
       "      <th>0</th>\n",
       "      <td>1</td>\n",
       "      <td>11.8</td>\n",
       "      <td>6.1</td>\n",
       "      <td>1</td>\n",
       "      <td>0</td>\n",
       "      <td>1</td>\n",
       "      <td>1</td>\n",
       "      <td>Male</td>\n",
       "    </tr>\n",
       "    <tr>\n",
       "      <th>1</th>\n",
       "      <td>0</td>\n",
       "      <td>14.0</td>\n",
       "      <td>5.4</td>\n",
       "      <td>0</td>\n",
       "      <td>0</td>\n",
       "      <td>1</td>\n",
       "      <td>0</td>\n",
       "      <td>Female</td>\n",
       "    </tr>\n",
       "    <tr>\n",
       "      <th>2</th>\n",
       "      <td>0</td>\n",
       "      <td>11.8</td>\n",
       "      <td>6.3</td>\n",
       "      <td>1</td>\n",
       "      <td>1</td>\n",
       "      <td>1</td>\n",
       "      <td>1</td>\n",
       "      <td>Male</td>\n",
       "    </tr>\n",
       "    <tr>\n",
       "      <th>3</th>\n",
       "      <td>0</td>\n",
       "      <td>14.4</td>\n",
       "      <td>6.1</td>\n",
       "      <td>0</td>\n",
       "      <td>1</td>\n",
       "      <td>1</td>\n",
       "      <td>1</td>\n",
       "      <td>Male</td>\n",
       "    </tr>\n",
       "    <tr>\n",
       "      <th>4</th>\n",
       "      <td>1</td>\n",
       "      <td>13.5</td>\n",
       "      <td>5.9</td>\n",
       "      <td>0</td>\n",
       "      <td>0</td>\n",
       "      <td>0</td>\n",
       "      <td>0</td>\n",
       "      <td>Female</td>\n",
       "    </tr>\n",
       "  </tbody>\n",
       "</table>\n",
       "</div>"
      ],
      "text/plain": [
       "   long_hair  forehead_width_cm  forehead_height_cm  nose_wide  nose_long  \\\n",
       "0          1               11.8                 6.1          1          0   \n",
       "1          0               14.0                 5.4          0          0   \n",
       "2          0               11.8                 6.3          1          1   \n",
       "3          0               14.4                 6.1          0          1   \n",
       "4          1               13.5                 5.9          0          0   \n",
       "\n",
       "   lips_thin  distance_nose_to_lip_long  gender  \n",
       "0          1                          1    Male  \n",
       "1          1                          0  Female  \n",
       "2          1                          1    Male  \n",
       "3          1                          1    Male  \n",
       "4          0                          0  Female  "
      ]
     },
     "execution_count": 2,
     "metadata": {},
     "output_type": "execute_result"
    }
   ],
   "source": [
    "df = pd.read_csv(\"../datasets/raw/gender_classification_v7.csv\")\n",
    "df.head()"
   ]
  },
  {
   "cell_type": "markdown",
   "metadata": {},
   "source": [
    "## Dividir dados em treino e teste"
   ]
  },
  {
   "cell_type": "code",
   "execution_count": 3,
   "metadata": {},
   "outputs": [
    {
     "data": {
      "text/plain": [
       "((4000, 7), (4000,), (1001, 7), (1001, 1))"
      ]
     },
     "execution_count": 3,
     "metadata": {},
     "output_type": "execute_result"
    }
   ],
   "source": [
    "y = df.iloc[::, -1].map({'Female': 0, 'Male': 1})\n",
    "X = df.iloc[::, :-1:]\n",
    "\n",
    "x_train, x_test, y_train, y_test = train_test_split(X, y, test_size=0.2)\n",
    "y_test = y_test.values.reshape((y_test.shape[0], 1))\n",
    "\n",
    "x_train.shape, y_train.shape, x_test.shape, y_test.shape"
   ]
  },
  {
   "cell_type": "markdown",
   "metadata": {},
   "source": [
    "## Normalizar dados"
   ]
  },
  {
   "cell_type": "code",
   "execution_count": 4,
   "metadata": {},
   "outputs": [],
   "source": [
    "min_max_scaler = MinMaxScaler()\n",
    "\n",
    "x_train_scaled = min_max_scaler.fit_transform(x_train)\n",
    "x_test_scaled = min_max_scaler.transform(x_test)"
   ]
  },
  {
   "cell_type": "markdown",
   "metadata": {},
   "source": [
    "## Criar modelo FeedForward"
   ]
  },
  {
   "cell_type": "code",
   "execution_count": 5,
   "metadata": {},
   "outputs": [
    {
     "name": "stdout",
     "output_type": "stream",
     "text": [
      "Epoch 1/20\n",
      "400/400 [==============================] - 0s 924us/step - loss: 0.3146 - accuracy: 0.9133 - val_loss: 0.1287 - val_accuracy: 0.9560\n",
      "Epoch 2/20\n",
      "400/400 [==============================] - 0s 585us/step - loss: 0.1215 - accuracy: 0.9528 - val_loss: 0.0899 - val_accuracy: 0.9580\n",
      "Epoch 3/20\n",
      "400/400 [==============================] - 0s 525us/step - loss: 0.1010 - accuracy: 0.9605 - val_loss: 0.0807 - val_accuracy: 0.9590\n",
      "Epoch 4/20\n",
      "400/400 [==============================] - 0s 535us/step - loss: 0.0947 - accuracy: 0.9607 - val_loss: 0.0754 - val_accuracy: 0.9620\n",
      "Epoch 5/20\n",
      "400/400 [==============================] - 0s 556us/step - loss: 0.0903 - accuracy: 0.9640 - val_loss: 0.0697 - val_accuracy: 0.9660\n",
      "Epoch 6/20\n",
      "400/400 [==============================] - 0s 531us/step - loss: 0.0876 - accuracy: 0.9663 - val_loss: 0.0664 - val_accuracy: 0.9690\n",
      "Epoch 7/20\n",
      "400/400 [==============================] - 0s 586us/step - loss: 0.0848 - accuracy: 0.9663 - val_loss: 0.0697 - val_accuracy: 0.9650\n",
      "Epoch 8/20\n",
      "400/400 [==============================] - 0s 535us/step - loss: 0.0835 - accuracy: 0.9670 - val_loss: 0.0633 - val_accuracy: 0.9700\n",
      "Epoch 9/20\n",
      "400/400 [==============================] - 0s 542us/step - loss: 0.0817 - accuracy: 0.9680 - val_loss: 0.0607 - val_accuracy: 0.9720\n",
      "Epoch 10/20\n",
      "400/400 [==============================] - 0s 621us/step - loss: 0.0810 - accuracy: 0.9668 - val_loss: 0.0705 - val_accuracy: 0.9660\n",
      "Epoch 11/20\n",
      "400/400 [==============================] - 0s 716us/step - loss: 0.0802 - accuracy: 0.9712 - val_loss: 0.0595 - val_accuracy: 0.9740\n",
      "Epoch 12/20\n",
      "400/400 [==============================] - 0s 576us/step - loss: 0.0799 - accuracy: 0.9675 - val_loss: 0.0597 - val_accuracy: 0.9730\n",
      "Epoch 13/20\n",
      "400/400 [==============================] - 0s 593us/step - loss: 0.0799 - accuracy: 0.9685 - val_loss: 0.0612 - val_accuracy: 0.9700\n",
      "Epoch 14/20\n",
      "400/400 [==============================] - 0s 671us/step - loss: 0.0795 - accuracy: 0.9693 - val_loss: 0.0607 - val_accuracy: 0.9710\n",
      "Epoch 15/20\n",
      "400/400 [==============================] - 0s 560us/step - loss: 0.0791 - accuracy: 0.9688 - val_loss: 0.0591 - val_accuracy: 0.9740\n",
      "Epoch 16/20\n",
      "400/400 [==============================] - 0s 641us/step - loss: 0.0786 - accuracy: 0.9670 - val_loss: 0.0575 - val_accuracy: 0.9730\n",
      "Epoch 17/20\n",
      "400/400 [==============================] - 0s 534us/step - loss: 0.0786 - accuracy: 0.9682 - val_loss: 0.0584 - val_accuracy: 0.9740\n",
      "Epoch 18/20\n",
      "400/400 [==============================] - 0s 549us/step - loss: 0.0787 - accuracy: 0.9678 - val_loss: 0.0583 - val_accuracy: 0.9740\n",
      "Epoch 19/20\n",
      "400/400 [==============================] - 0s 525us/step - loss: 0.0787 - accuracy: 0.9690 - val_loss: 0.0605 - val_accuracy: 0.9710\n",
      "Epoch 20/20\n",
      "400/400 [==============================] - 0s 550us/step - loss: 0.0785 - accuracy: 0.9678 - val_loss: 0.0619 - val_accuracy: 0.9710\n",
      "101/101 [==============================] - 0s 421us/step - loss: 0.0619 - accuracy: 0.9710\n",
      "FeedForward Accuracy: 97.103%\n"
     ]
    }
   ],
   "source": [
    "def model_feed_forward():\n",
    "    model = Sequential()\n",
    "    model.add(layers.Dense(32, activation='relu', input_shape=(7,)))\n",
    "    model.add(layers.Dense(1, activation='sigmoid'))\n",
    "    model.compile(loss=\"binary_crossentropy\", optimizer=\"rmsprop\", metrics=[\"accuracy\"])\n",
    "    \n",
    "    return model\n",
    "\n",
    "model = model_feed_forward()\n",
    "history = model.fit(x_train_scaled, y_train, epochs=20, batch_size=10, validation_data=(x_test_scaled, y_test))\n",
    "_, accuracy = model.evaluate(x_test_scaled, y_test, batch_size = 10)\n",
    "\n",
    "print(f\"FeedForward Accuracy: {round(100.0 * accuracy, 3)}%\")"
   ]
  },
  {
   "cell_type": "markdown",
   "metadata": {},
   "source": [
    "## Visualizar perda de treino e teste do modelo FeedForward"
   ]
  },
  {
   "cell_type": "code",
   "execution_count": 6,
   "metadata": {},
   "outputs": [
    {
     "data": {
      "image/png": "[encoded data removed]",
      "text/plain": [
       "<Figure size 640x480 with 1 Axes>"
      ]
     },
     "metadata": {},
     "output_type": "display_data"
    }
   ],
   "source": [
    "# Get training and test loss histories\n",
    "training_loss = history.history[\"loss\"]\n",
    "test_loss = history.history[\"val_loss\"]\n",
    "\n",
    "# Create count of the number of epochs\n",
    "epoch_count = range(1, len(training_loss) + 1)\n",
    "\n",
    "# Visualize loss history\n",
    "plt.plot(epoch_count, training_loss, \"r--\")\n",
    "plt.plot(epoch_count, test_loss, \"b-\")\n",
    "plt.legend([\"Training Loss\", \"Test Loss\"])\n",
    "plt.xlabel(\"Epoch\")\n",
    "plt.ylabel(\"Loss\")\n",
    "plt.show()"
   ]
  },
  {
   "cell_type": "markdown",
   "metadata": {},
   "source": [
    "## Criar modelos KNeighbors e Random Forest"
   ]
  },
  {
   "cell_type": "code",
   "execution_count": 7,
   "metadata": {},
   "outputs": [
    {
     "name": "stdout",
     "output_type": "stream",
     "text": [
      "KNeighnors Accuracy: 97.203%\n",
      "Random Forest Accuracy: 97.802%\n"
     ]
    }
   ],
   "source": [
    "def evaluate_model(model, model_name):\n",
    "    model = model()\n",
    "    \n",
    "    model.fit(x_train_scaled, y_train)\n",
    "    #y_hat = model.predict(x_test_scaled)\n",
    "    score = round(model.score(x_test_scaled, y_test)* 100, 3)\n",
    "    \n",
    "    print(f\"{model_name} Accuracy: {score}%\")\n",
    "\n",
    "evaluate_model(KNeighborsClassifier, \"KNeighnors\")\n",
    "evaluate_model(RandomForestClassifier, \"Random Forest\")"
   ]
  }
 ],
 "metadata": {
  "kernelspec": {
   "display_name": "Python 3.9.13 ('base')",
   "language": "python",
   "name": "python3"
  },
  "language_info": {
   "codemirror_mode": {
    "name": "ipython",
    "version": 3
   },
   "file_extension": ".py",
   "mimetype": "text/x-python",
   "name": "python",
   "nbconvert_exporter": "python",
   "pygments_lexer": "ipython3",
   "version": "3.9.13"
  },
  "orig_nbformat": 4,
  "vscode": {
   "interpreter": {
    "hash": "d674aba619e9128d5d95f68874c090de0e48b8e67c1ba838c5d294b8a6cf0663"
   }
  }
 },
 "nbformat": 4,
 "nbformat_minor": 2
}
