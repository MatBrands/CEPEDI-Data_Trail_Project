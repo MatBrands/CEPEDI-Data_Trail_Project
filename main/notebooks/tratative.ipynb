{
 "cells": [
  {
   "cell_type": "code",
<<<<<<< HEAD
   "execution_count": 1,
=======
   "execution_count": 361,
>>>>>>> 9ced70f ('Update: Model')
   "metadata": {},
   "outputs": [],
   "source": [
    "import pandas as pd\n",
    "import re"
   ]
  },
  {
   "cell_type": "markdown",
   "metadata": {},
   "source": [
    "# Pré-processamento dos Dados"
   ]
  },
  {
   "cell_type": "markdown",
   "metadata": {},
   "source": [
    "### Carregar Base de dados"
   ]
  },
  {
   "cell_type": "code",
<<<<<<< HEAD
   "execution_count": 2,
=======
   "execution_count": 362,
>>>>>>> 9ced70f ('Update: Model')
   "metadata": {},
   "outputs": [
    {
     "data": {
      "text/html": [
       "<div>\n",
       "<style scoped>\n",
       "    .dataframe tbody tr th:only-of-type {\n",
       "        vertical-align: middle;\n",
       "    }\n",
       "\n",
       "    .dataframe tbody tr th {\n",
       "        vertical-align: top;\n",
       "    }\n",
       "\n",
       "    .dataframe thead th {\n",
       "        text-align: right;\n",
       "    }\n",
       "</style>\n",
       "<table border=\"1\" class=\"dataframe\">\n",
       "  <thead>\n",
       "    <tr style=\"text-align: right;\">\n",
       "      <th></th>\n",
       "      <th>laptop_ID</th>\n",
       "      <th>Company</th>\n",
       "      <th>Product</th>\n",
       "      <th>TypeName</th>\n",
       "      <th>Inches</th>\n",
       "      <th>ScreenResolution</th>\n",
       "      <th>Cpu</th>\n",
       "      <th>Ram</th>\n",
       "      <th>Memory</th>\n",
       "      <th>Gpu</th>\n",
       "      <th>OpSys</th>\n",
       "      <th>Weight</th>\n",
       "      <th>Price_euros</th>\n",
       "    </tr>\n",
       "  </thead>\n",
       "  <tbody>\n",
       "    <tr>\n",
       "      <th>0</th>\n",
       "      <td>1</td>\n",
       "      <td>Apple</td>\n",
       "      <td>MacBook Pro</td>\n",
       "      <td>Ultrabook</td>\n",
       "      <td>13.3</td>\n",
       "      <td>IPS Panel Retina Display 2560x1600</td>\n",
       "      <td>Intel Core i5 2.3GHz</td>\n",
       "      <td>8GB</td>\n",
       "      <td>128GB SSD</td>\n",
       "      <td>Intel Iris Plus Graphics 640</td>\n",
       "      <td>macOS</td>\n",
       "      <td>1.37kg</td>\n",
       "      <td>1339.69</td>\n",
       "    </tr>\n",
       "    <tr>\n",
       "      <th>1</th>\n",
       "      <td>2</td>\n",
       "      <td>Apple</td>\n",
       "      <td>Macbook Air</td>\n",
       "      <td>Ultrabook</td>\n",
       "      <td>13.3</td>\n",
       "      <td>1440x900</td>\n",
       "      <td>Intel Core i5 1.8GHz</td>\n",
       "      <td>8GB</td>\n",
       "      <td>128GB Flash Storage</td>\n",
       "      <td>Intel HD Graphics 6000</td>\n",
       "      <td>macOS</td>\n",
       "      <td>1.34kg</td>\n",
       "      <td>898.94</td>\n",
       "    </tr>\n",
       "    <tr>\n",
       "      <th>2</th>\n",
       "      <td>3</td>\n",
       "      <td>HP</td>\n",
       "      <td>250 G6</td>\n",
       "      <td>Notebook</td>\n",
       "      <td>15.6</td>\n",
       "      <td>Full HD 1920x1080</td>\n",
       "      <td>Intel Core i5 7200U 2.5GHz</td>\n",
       "      <td>8GB</td>\n",
       "      <td>256GB SSD</td>\n",
       "      <td>Intel HD Graphics 620</td>\n",
       "      <td>No OS</td>\n",
       "      <td>1.86kg</td>\n",
       "      <td>575.00</td>\n",
       "    </tr>\n",
       "    <tr>\n",
       "      <th>3</th>\n",
       "      <td>4</td>\n",
       "      <td>Apple</td>\n",
       "      <td>MacBook Pro</td>\n",
       "      <td>Ultrabook</td>\n",
       "      <td>15.4</td>\n",
       "      <td>IPS Panel Retina Display 2880x1800</td>\n",
       "      <td>Intel Core i7 2.7GHz</td>\n",
       "      <td>16GB</td>\n",
       "      <td>512GB SSD</td>\n",
       "      <td>AMD Radeon Pro 455</td>\n",
       "      <td>macOS</td>\n",
       "      <td>1.83kg</td>\n",
       "      <td>2537.45</td>\n",
       "    </tr>\n",
       "    <tr>\n",
       "      <th>4</th>\n",
       "      <td>5</td>\n",
       "      <td>Apple</td>\n",
       "      <td>MacBook Pro</td>\n",
       "      <td>Ultrabook</td>\n",
       "      <td>13.3</td>\n",
       "      <td>IPS Panel Retina Display 2560x1600</td>\n",
       "      <td>Intel Core i5 3.1GHz</td>\n",
       "      <td>8GB</td>\n",
       "      <td>256GB SSD</td>\n",
       "      <td>Intel Iris Plus Graphics 650</td>\n",
       "      <td>macOS</td>\n",
       "      <td>1.37kg</td>\n",
       "      <td>1803.60</td>\n",
       "    </tr>\n",
       "  </tbody>\n",
       "</table>\n",
       "</div>"
      ],
      "text/plain": [
       "   laptop_ID Company      Product   TypeName  Inches  \\\n",
       "0          1   Apple  MacBook Pro  Ultrabook    13.3   \n",
       "1          2   Apple  Macbook Air  Ultrabook    13.3   \n",
       "2          3      HP       250 G6   Notebook    15.6   \n",
       "3          4   Apple  MacBook Pro  Ultrabook    15.4   \n",
       "4          5   Apple  MacBook Pro  Ultrabook    13.3   \n",
       "\n",
       "                     ScreenResolution                         Cpu   Ram  \\\n",
       "0  IPS Panel Retina Display 2560x1600        Intel Core i5 2.3GHz   8GB   \n",
       "1                            1440x900        Intel Core i5 1.8GHz   8GB   \n",
       "2                   Full HD 1920x1080  Intel Core i5 7200U 2.5GHz   8GB   \n",
       "3  IPS Panel Retina Display 2880x1800        Intel Core i7 2.7GHz  16GB   \n",
       "4  IPS Panel Retina Display 2560x1600        Intel Core i5 3.1GHz   8GB   \n",
       "\n",
       "                Memory                           Gpu  OpSys  Weight  \\\n",
       "0            128GB SSD  Intel Iris Plus Graphics 640  macOS  1.37kg   \n",
       "1  128GB Flash Storage        Intel HD Graphics 6000  macOS  1.34kg   \n",
       "2            256GB SSD         Intel HD Graphics 620  No OS  1.86kg   \n",
       "3            512GB SSD            AMD Radeon Pro 455  macOS  1.83kg   \n",
       "4            256GB SSD  Intel Iris Plus Graphics 650  macOS  1.37kg   \n",
       "\n",
       "   Price_euros  \n",
       "0      1339.69  \n",
       "1       898.94  \n",
       "2       575.00  \n",
       "3      2537.45  \n",
       "4      1803.60  "
      ]
     },
<<<<<<< HEAD
     "execution_count": 2,
=======
     "execution_count": 362,
>>>>>>> 9ced70f ('Update: Model')
     "metadata": {},
     "output_type": "execute_result"
    }
   ],
   "source": [
    "laptop_price = pd.read_csv(\"../datasets/raw/laptop_price.csv\", encoding=\"ISO-8859-1\")\n",
    "laptop_price.head()"
   ]
  },
  {
   "cell_type": "markdown",
   "metadata": {},
   "source": [
    "### Verificar tipo das colunas e dropar coluna laptop_id"
   ]
  },
  {
   "cell_type": "code",
<<<<<<< HEAD
   "execution_count": 3,
=======
   "execution_count": 363,
>>>>>>> 9ced70f ('Update: Model')
   "metadata": {},
   "outputs": [
    {
     "name": "stdout",
     "output_type": "stream",
     "text": [
      "<class 'pandas.core.frame.DataFrame'>\n",
      "RangeIndex: 1303 entries, 0 to 1302\n",
      "Data columns (total 12 columns):\n",
      " #   Column             Non-Null Count  Dtype  \n",
      "---  ------             --------------  -----  \n",
      " 0   company            1303 non-null   object \n",
      " 1   product            1303 non-null   object \n",
      " 2   typename           1303 non-null   object \n",
      " 3   inches             1303 non-null   float64\n",
      " 4   screen_resolution  1303 non-null   object \n",
      " 5   cpu                1303 non-null   object \n",
      " 6   ram                1303 non-null   object \n",
      " 7   memory             1303 non-null   object \n",
      " 8   gpu                1303 non-null   object \n",
      " 9   opsys              1303 non-null   object \n",
      " 10  weight             1303 non-null   object \n",
      " 11  price_euros        1303 non-null   float64\n",
      "dtypes: float64(2), object(10)\n",
      "memory usage: 904.4 KB\n"
     ]
    }
   ],
   "source": [
    "laptop_price = laptop_price.rename(columns={'ScreenResolution': 'screen_resolution'})\n",
    "laptop_price.columns = laptop_price.columns.str.lower()\n",
    "laptop_price = laptop_price.drop(columns='laptop_id')\n",
    "laptop_price.info(memory_usage='deep')"
   ]
  },
  {
   "cell_type": "markdown",
   "metadata": {},
   "source": [
    "### Verificar quantidade de valores únicos"
   ]
  },
  {
   "cell_type": "code",
<<<<<<< HEAD
   "execution_count": 4,
=======
   "execution_count": 364,
>>>>>>> 9ced70f ('Update: Model')
   "metadata": {},
   "outputs": [
    {
     "name": "stdout",
     "output_type": "stream",
     "text": [
      "Quantidade de Valores únicos por coluna\n",
      "company: 19\n",
      "product: 618\n",
      "typename: 6\n",
      "inches: 18\n",
      "screen_resolution: 40\n",
      "cpu: 118\n",
      "ram: 9\n",
      "memory: 39\n",
      "gpu: 110\n",
      "opsys: 9\n",
      "weight: 179\n",
      "price_euros: 791\n"
     ]
    }
   ],
   "source": [
    "print(\"Quantidade de Valores únicos por coluna\")\n",
    "for column in laptop_price.columns:\n",
    "    print(f\"{column}: {len(laptop_price[column].unique())}\")"
   ]
  },
  {
   "cell_type": "markdown",
   "metadata": {},
   "source": [
    "### Obter Ghz CPU"
   ]
  },
  {
   "cell_type": "code",
   "execution_count": 365,
   "metadata": {},
   "outputs": [],
   "source": [
    "laptop_price['cpu_frequency'] = laptop_price.cpu.str.lower().str.extract(r'(([0-9]+[g][h][z])|([0-9]+[.][0-9]+[g][h][z]))')[0]\n",
    "laptop_price.cpu_frequency.replace(to_replace = '[g][h][z]', value = '', regex=True, inplace=True)"
   ]
  },
  {
   "cell_type": "markdown",
   "metadata": {},
   "source": [
    "### Obter fabricante da cpu e gpu"
   ]
  },
  {
   "cell_type": "code",
<<<<<<< HEAD
   "execution_count": 5,
=======
   "execution_count": 366,
>>>>>>> 9ced70f ('Update: Model')
   "metadata": {},
   "outputs": [],
   "source": [
    "laptop_price['cpu_manufacturer'] = laptop_price.cpu.str.split(n=1, expand=True)[0]\n",
    "laptop_price['gpu_manufacturer'] = laptop_price.gpu.str.split(n=1, expand=True)[0]"
   ]
  },
  {
   "cell_type": "markdown",
   "metadata": {},
   "source": [
    "### Tratar memory"
   ]
  },
  {
   "cell_type": "code",
<<<<<<< HEAD
   "execution_count": 6,
=======
   "execution_count": 367,
>>>>>>> 9ced70f ('Update: Model')
   "metadata": {},
   "outputs": [],
   "source": [
    "laptop_price.memory.replace(to_replace = '([.][0])|([G][B])', value = '', regex=True, inplace=True)\n",
    "laptop_price.memory.replace(to_replace = '([T][B])', value = '000', regex=True, inplace=True)\n",
    "laptop_price.memory.replace(to_replace = '( )+', value = ' ', regex=True, inplace=True)\n",
    "\n",
    "laptop_price['memory_0_gb'] = 0\n",
    "laptop_price['memory_0_type'] = '0'\n",
    "laptop_price['memory_1_gb'] = 0\n",
    "laptop_price['memory_1_type'] = '0'"
   ]
  },
  {
   "cell_type": "markdown",
   "metadata": {},
   "source": [
    "### Verificar valores únicos"
   ]
  },
  {
   "cell_type": "code",
<<<<<<< HEAD
   "execution_count": 7,
=======
   "execution_count": 368,
>>>>>>> 9ced70f ('Update: Model')
   "metadata": {},
   "outputs": [
    {
     "data": {
      "text/plain": [
       "array(['128 SSD', '128 Flash Storage', '256 SSD', '512 SSD', '500 HDD',\n",
       "       '256 Flash Storage', '1000 HDD', '32 Flash Storage',\n",
       "       '128 SSD + 1000 HDD', '256 SSD + 256 SSD', '64 Flash Storage',\n",
       "       '256 SSD + 1000 HDD', '256 SSD + 2000 HDD', '32 SSD', '2000 HDD',\n",
       "       '64 SSD', '1000 Hybrid', '512 SSD + 1000 HDD', '1000 SSD',\n",
       "       '256 SSD + 500 HDD', '128 SSD + 2000 HDD', '512 SSD + 512 SSD',\n",
       "       '16 SSD', '16 Flash Storage', '512 SSD + 256 SSD',\n",
       "       '512 SSD + 2000 HDD', '64 Flash Storage + 1000 HDD', '180 SSD',\n",
       "       '1000 HDD + 1000 HDD', '32 HDD', '1000 SSD + 1000 HDD',\n",
       "       '512 Flash Storage', '128 HDD', '240 SSD', '8 SSD', '508 Hybrid',\n",
       "       '512 SSD + 1000 Hybrid', '256 SSD + 1000 Hybrid'], dtype=object)"
      ]
     },
<<<<<<< HEAD
     "execution_count": 7,
=======
     "execution_count": 368,
>>>>>>> 9ced70f ('Update: Model')
     "metadata": {},
     "output_type": "execute_result"
    }
   ],
   "source": [
    "laptop_price.memory.unique()"
   ]
  },
  {
   "cell_type": "code",
<<<<<<< HEAD
   "execution_count": 8,
=======
   "execution_count": 369,
>>>>>>> 9ced70f ('Update: Model')
   "metadata": {},
   "outputs": [],
   "source": [
    "for i, row in enumerate(laptop_price['memory']):\n",
    "    row = row.lower()\n",
    "    for j, items in enumerate(row.split('+ ')):\n",
    "        valores = items.split(' ', 1)\n",
    "        laptop_price.loc[i, f'memory_{j}_gb'] = eval(valores[0])\n",
    "        laptop_price.loc[i, f'memory_{j}_type'] = valores[1]\n",
    "\n",
    "laptop_price.drop(columns=['memory'], inplace=True)"
   ]
  },
  {
   "cell_type": "code",
<<<<<<< HEAD
   "execution_count": 9,
=======
   "execution_count": 370,
>>>>>>> 9ced70f ('Update: Model')
   "metadata": {},
   "outputs": [
    {
     "data": {
      "text/html": [
       "<div>\n",
       "<style scoped>\n",
       "    .dataframe tbody tr th:only-of-type {\n",
       "        vertical-align: middle;\n",
       "    }\n",
       "\n",
       "    .dataframe tbody tr th {\n",
       "        vertical-align: top;\n",
       "    }\n",
       "\n",
       "    .dataframe thead th {\n",
       "        text-align: right;\n",
       "    }\n",
       "</style>\n",
       "<table border=\"1\" class=\"dataframe\">\n",
       "  <thead>\n",
       "    <tr style=\"text-align: right;\">\n",
       "      <th></th>\n",
       "      <th>company</th>\n",
       "      <th>product</th>\n",
       "      <th>typename</th>\n",
       "      <th>inches</th>\n",
       "      <th>screen_resolution</th>\n",
       "      <th>cpu</th>\n",
       "      <th>ram</th>\n",
       "      <th>gpu</th>\n",
       "      <th>opsys</th>\n",
       "      <th>weight</th>\n",
       "      <th>price_euros</th>\n",
       "      <th>cpu_frequency</th>\n",
       "      <th>cpu_manufacturer</th>\n",
       "      <th>gpu_manufacturer</th>\n",
       "      <th>memory_0_gb</th>\n",
       "      <th>memory_0_type</th>\n",
       "      <th>memory_1_gb</th>\n",
       "      <th>memory_1_type</th>\n",
       "    </tr>\n",
       "  </thead>\n",
       "  <tbody>\n",
       "    <tr>\n",
       "      <th>0</th>\n",
       "      <td>Apple</td>\n",
       "      <td>MacBook Pro</td>\n",
       "      <td>Ultrabook</td>\n",
       "      <td>13.3</td>\n",
       "      <td>IPS Panel Retina Display 2560x1600</td>\n",
       "      <td>Intel Core i5 2.3GHz</td>\n",
       "      <td>8GB</td>\n",
       "      <td>Intel Iris Plus Graphics 640</td>\n",
       "      <td>macOS</td>\n",
       "      <td>1.37kg</td>\n",
       "      <td>1339.69</td>\n",
       "      <td>2.3</td>\n",
       "      <td>Intel</td>\n",
       "      <td>Intel</td>\n",
       "      <td>128</td>\n",
       "      <td>ssd</td>\n",
       "      <td>0</td>\n",
       "      <td>0</td>\n",
       "    </tr>\n",
       "    <tr>\n",
       "      <th>1</th>\n",
       "      <td>Apple</td>\n",
       "      <td>Macbook Air</td>\n",
       "      <td>Ultrabook</td>\n",
       "      <td>13.3</td>\n",
       "      <td>1440x900</td>\n",
       "      <td>Intel Core i5 1.8GHz</td>\n",
       "      <td>8GB</td>\n",
       "      <td>Intel HD Graphics 6000</td>\n",
       "      <td>macOS</td>\n",
       "      <td>1.34kg</td>\n",
       "      <td>898.94</td>\n",
       "      <td>1.8</td>\n",
       "      <td>Intel</td>\n",
       "      <td>Intel</td>\n",
       "      <td>128</td>\n",
       "      <td>flash storage</td>\n",
       "      <td>0</td>\n",
       "      <td>0</td>\n",
       "    </tr>\n",
       "    <tr>\n",
       "      <th>2</th>\n",
       "      <td>HP</td>\n",
       "      <td>250 G6</td>\n",
       "      <td>Notebook</td>\n",
       "      <td>15.6</td>\n",
       "      <td>Full HD 1920x1080</td>\n",
       "      <td>Intel Core i5 7200U 2.5GHz</td>\n",
       "      <td>8GB</td>\n",
       "      <td>Intel HD Graphics 620</td>\n",
       "      <td>No OS</td>\n",
       "      <td>1.86kg</td>\n",
       "      <td>575.00</td>\n",
       "      <td>2.5</td>\n",
       "      <td>Intel</td>\n",
       "      <td>Intel</td>\n",
       "      <td>256</td>\n",
       "      <td>ssd</td>\n",
       "      <td>0</td>\n",
       "      <td>0</td>\n",
       "    </tr>\n",
       "    <tr>\n",
       "      <th>3</th>\n",
       "      <td>Apple</td>\n",
       "      <td>MacBook Pro</td>\n",
       "      <td>Ultrabook</td>\n",
       "      <td>15.4</td>\n",
       "      <td>IPS Panel Retina Display 2880x1800</td>\n",
       "      <td>Intel Core i7 2.7GHz</td>\n",
       "      <td>16GB</td>\n",
       "      <td>AMD Radeon Pro 455</td>\n",
       "      <td>macOS</td>\n",
       "      <td>1.83kg</td>\n",
       "      <td>2537.45</td>\n",
       "      <td>2.7</td>\n",
       "      <td>Intel</td>\n",
       "      <td>AMD</td>\n",
       "      <td>512</td>\n",
       "      <td>ssd</td>\n",
       "      <td>0</td>\n",
       "      <td>0</td>\n",
       "    </tr>\n",
       "    <tr>\n",
       "      <th>4</th>\n",
       "      <td>Apple</td>\n",
       "      <td>MacBook Pro</td>\n",
       "      <td>Ultrabook</td>\n",
       "      <td>13.3</td>\n",
       "      <td>IPS Panel Retina Display 2560x1600</td>\n",
       "      <td>Intel Core i5 3.1GHz</td>\n",
       "      <td>8GB</td>\n",
       "      <td>Intel Iris Plus Graphics 650</td>\n",
       "      <td>macOS</td>\n",
       "      <td>1.37kg</td>\n",
       "      <td>1803.60</td>\n",
       "      <td>3.1</td>\n",
       "      <td>Intel</td>\n",
       "      <td>Intel</td>\n",
       "      <td>256</td>\n",
       "      <td>ssd</td>\n",
       "      <td>0</td>\n",
       "      <td>0</td>\n",
       "    </tr>\n",
       "  </tbody>\n",
       "</table>\n",
       "</div>"
      ],
      "text/plain": [
       "  company      product   typename  inches                   screen_resolution  \\\n",
       "0   Apple  MacBook Pro  Ultrabook    13.3  IPS Panel Retina Display 2560x1600   \n",
       "1   Apple  Macbook Air  Ultrabook    13.3                            1440x900   \n",
       "2      HP       250 G6   Notebook    15.6                   Full HD 1920x1080   \n",
       "3   Apple  MacBook Pro  Ultrabook    15.4  IPS Panel Retina Display 2880x1800   \n",
       "4   Apple  MacBook Pro  Ultrabook    13.3  IPS Panel Retina Display 2560x1600   \n",
       "\n",
       "                          cpu   ram                           gpu  opsys  \\\n",
       "0        Intel Core i5 2.3GHz   8GB  Intel Iris Plus Graphics 640  macOS   \n",
       "1        Intel Core i5 1.8GHz   8GB        Intel HD Graphics 6000  macOS   \n",
       "2  Intel Core i5 7200U 2.5GHz   8GB         Intel HD Graphics 620  No OS   \n",
       "3        Intel Core i7 2.7GHz  16GB            AMD Radeon Pro 455  macOS   \n",
       "4        Intel Core i5 3.1GHz   8GB  Intel Iris Plus Graphics 650  macOS   \n",
       "\n",
       "   weight  price_euros cpu_frequency cpu_manufacturer gpu_manufacturer  \\\n",
       "0  1.37kg      1339.69           2.3            Intel            Intel   \n",
       "1  1.34kg       898.94           1.8            Intel            Intel   \n",
       "2  1.86kg       575.00           2.5            Intel            Intel   \n",
       "3  1.83kg      2537.45           2.7            Intel              AMD   \n",
       "4  1.37kg      1803.60           3.1            Intel            Intel   \n",
       "\n",
       "   memory_0_gb  memory_0_type  memory_1_gb memory_1_type  \n",
       "0          128            ssd            0             0  \n",
       "1          128  flash storage            0             0  \n",
       "2          256            ssd            0             0  \n",
       "3          512            ssd            0             0  \n",
       "4          256            ssd            0             0  "
      ]
     },
<<<<<<< HEAD
     "execution_count": 9,
=======
     "execution_count": 370,
>>>>>>> 9ced70f ('Update: Model')
     "metadata": {},
     "output_type": "execute_result"
    }
   ],
   "source": [
    "laptop_price.head()"
   ]
  },
  {
   "cell_type": "markdown",
   "metadata": {},
   "source": [
    "### Filtrar CPU"
   ]
  },
  {
   "cell_type": "code",
   "execution_count": 10,
   "metadata": {},
   "outputs": [
    {
     "data": {
      "text/plain": [
       "array(['Others Intel', 'Intel Core i5', 'Others AMD', 'Intel Core i7',\n",
       "       'Intel Core i3', 'AMD Ryzen', 'AMD FX', 'Samsung Cortex'],\n",
       "      dtype=object)"
      ]
     },
     "execution_count": 10,
     "metadata": {},
     "output_type": "execute_result"
    }
   ],
   "source": [
    "def filter_cpu(row):\n",
    "    row = row.split()[:-2:]   \n",
    "    row = \" \".join(row)\n",
    "    \n",
    "    if row == 'Intel Core i3' or row == 'Intel Core i5' or row == 'Intel Core i7':\n",
    "        return row\n",
    "    elif 'Intel' in row:\n",
    "        row = 'Others Intel'\n",
    "    elif 'Series' in row:\n",
    "        row = 'Others AMD'\n",
    "    return row\n",
    "\n",
    "laptop_price.cpu = laptop_price.cpu.apply(filter_cpu)\n",
    "laptop_price.cpu.unique()    "
   ]
  },
  {
   "cell_type": "markdown",
   "metadata": {},
   "source": [
    "### SO"
   ]
  },
  {
   "cell_type": "code",
<<<<<<< HEAD
   "execution_count": 11,
=======
   "execution_count": 371,
>>>>>>> 9ced70f ('Update: Model')
   "metadata": {},
   "outputs": [
    {
     "data": {
      "text/plain": [
       "array(['macOS', 'No OS', 'Windows 10', 'Mac OS X', 'Linux', 'Android',\n",
       "       'Windows 10 S', 'Chrome OS', 'Windows 7'], dtype=object)"
      ]
     },
<<<<<<< HEAD
     "execution_count": 11,
=======
     "execution_count": 371,
>>>>>>> 9ced70f ('Update: Model')
     "metadata": {},
     "output_type": "execute_result"
    }
   ],
   "source": [
    "laptop_price.opsys.unique()"
   ]
  },
  {
   "cell_type": "code",
<<<<<<< HEAD
   "execution_count": 12,
=======
   "execution_count": 372,
>>>>>>> 9ced70f ('Update: Model')
   "metadata": {},
   "outputs": [],
   "source": [
    "laptop_price.opsys.replace(to_replace ='Mac OS X', value = 'macOS', inplace=True)\n",
    "laptop_price.opsys.replace(to_replace =['Windows 10 S', 'Windows 10', 'Windows 7'], value = 'Windows', inplace=True)\n",
    "laptop_price.opsys.replace(to_replace =['No OS', 'Android', 'Chrome OS'], value = 'Outros', inplace=True)"
   ]
  },
  {
   "cell_type": "markdown",
   "metadata": {},
   "source": [
    "### Remover GB em Ram"
   ]
  },
  {
   "cell_type": "code",
<<<<<<< HEAD
   "execution_count": 13,
=======
   "execution_count": 373,
>>>>>>> 9ced70f ('Update: Model')
   "metadata": {},
   "outputs": [],
   "source": [
    "laptop_price.ram.replace(to_replace = '([G][B])', value = '', regex=True, inplace=True)"
   ]
  },
  {
   "cell_type": "markdown",
   "metadata": {},
   "source": [
    "### Filtrar screen_resolution"
   ]
  },
  {
   "cell_type": "code",
<<<<<<< HEAD
   "execution_count": 14,
=======
   "execution_count": 374,
>>>>>>> 9ced70f ('Update: Model')
   "metadata": {},
   "outputs": [],
   "source": [
    "laptop_price.screen_resolution = laptop_price.screen_resolution.str.extract(r'([0-9]+[x][0-9]+)')"
   ]
  },
  {
   "cell_type": "markdown",
   "metadata": {},
   "source": [
    "### Filtrar Coluna Weight"
   ]
  },
  {
   "cell_type": "code",
<<<<<<< HEAD
   "execution_count": 15,
=======
   "execution_count": 375,
>>>>>>> 9ced70f ('Update: Model')
   "metadata": {},
   "outputs": [],
   "source": [
    "laptop_price.weight = laptop_price.weight.str.slice(stop=-2)"
   ]
  },
  {
   "cell_type": "markdown",
   "metadata": {},
   "source": [
    "### Valores máximos e minimos"
   ]
  },
  {
   "cell_type": "code",
<<<<<<< HEAD
   "execution_count": 16,
=======
   "execution_count": 376,
>>>>>>> 9ced70f ('Update: Model')
   "metadata": {},
   "outputs": [
    {
     "data": {
      "text/html": [
       "<div>\n",
       "<style scoped>\n",
       "    .dataframe tbody tr th:only-of-type {\n",
       "        vertical-align: middle;\n",
       "    }\n",
       "\n",
       "    .dataframe tbody tr th {\n",
       "        vertical-align: top;\n",
       "    }\n",
       "\n",
       "    .dataframe thead th {\n",
       "        text-align: right;\n",
       "    }\n",
       "</style>\n",
       "<table border=\"1\" class=\"dataframe\">\n",
       "  <thead>\n",
       "    <tr style=\"text-align: right;\">\n",
       "      <th></th>\n",
       "      <th>inches</th>\n",
       "      <th>price_euros</th>\n",
       "      <th>memory_0_gb</th>\n",
       "      <th>memory_1_gb</th>\n",
       "    </tr>\n",
       "  </thead>\n",
       "  <tbody>\n",
       "    <tr>\n",
       "      <th>count</th>\n",
       "      <td>1303.000000</td>\n",
       "      <td>1303.000000</td>\n",
       "      <td>1303.000000</td>\n",
       "      <td>1303.000000</td>\n",
       "    </tr>\n",
       "    <tr>\n",
       "      <th>mean</th>\n",
       "      <td>15.017191</td>\n",
       "      <td>1123.686992</td>\n",
       "      <td>442.615503</td>\n",
       "      <td>168.288565</td>\n",
       "    </tr>\n",
       "    <tr>\n",
       "      <th>std</th>\n",
       "      <td>1.426304</td>\n",
       "      <td>699.009043</td>\n",
       "      <td>356.225802</td>\n",
       "      <td>402.618575</td>\n",
       "    </tr>\n",
       "    <tr>\n",
       "      <th>min</th>\n",
       "      <td>10.100000</td>\n",
       "      <td>174.000000</td>\n",
       "      <td>8.000000</td>\n",
       "      <td>0.000000</td>\n",
       "    </tr>\n",
       "    <tr>\n",
       "      <th>25%</th>\n",
       "      <td>14.000000</td>\n",
       "      <td>599.000000</td>\n",
       "      <td>256.000000</td>\n",
       "      <td>0.000000</td>\n",
       "    </tr>\n",
       "    <tr>\n",
       "      <th>50%</th>\n",
       "      <td>15.600000</td>\n",
       "      <td>977.000000</td>\n",
       "      <td>256.000000</td>\n",
       "      <td>0.000000</td>\n",
       "    </tr>\n",
       "    <tr>\n",
       "      <th>75%</th>\n",
       "      <td>15.600000</td>\n",
       "      <td>1487.880000</td>\n",
       "      <td>512.000000</td>\n",
       "      <td>0.000000</td>\n",
       "    </tr>\n",
       "    <tr>\n",
       "      <th>max</th>\n",
       "      <td>18.400000</td>\n",
       "      <td>6099.000000</td>\n",
       "      <td>2000.000000</td>\n",
       "      <td>2000.000000</td>\n",
       "    </tr>\n",
       "  </tbody>\n",
       "</table>\n",
       "</div>"
      ],
      "text/plain": [
       "            inches  price_euros  memory_0_gb  memory_1_gb\n",
       "count  1303.000000  1303.000000  1303.000000  1303.000000\n",
       "mean     15.017191  1123.686992   442.615503   168.288565\n",
       "std       1.426304   699.009043   356.225802   402.618575\n",
       "min      10.100000   174.000000     8.000000     0.000000\n",
       "25%      14.000000   599.000000   256.000000     0.000000\n",
       "50%      15.600000   977.000000   256.000000     0.000000\n",
       "75%      15.600000  1487.880000   512.000000     0.000000\n",
       "max      18.400000  6099.000000  2000.000000  2000.000000"
      ]
     },
<<<<<<< HEAD
     "execution_count": 16,
=======
     "execution_count": 376,
>>>>>>> 9ced70f ('Update: Model')
     "metadata": {},
     "output_type": "execute_result"
    }
   ],
   "source": [
    "laptop_price.describe()"
   ]
  },
  {
   "cell_type": "markdown",
   "metadata": {},
   "source": [
    "### Fazer downcasting das colunas"
   ]
  },
  {
   "cell_type": "code",
<<<<<<< HEAD
   "execution_count": 17,
=======
   "execution_count": 377,
>>>>>>> 9ced70f ('Update: Model')
   "metadata": {},
   "outputs": [
    {
     "data": {
      "text/html": [
       "<div>\n",
       "<style scoped>\n",
       "    .dataframe tbody tr th:only-of-type {\n",
       "        vertical-align: middle;\n",
       "    }\n",
       "\n",
       "    .dataframe tbody tr th {\n",
       "        vertical-align: top;\n",
       "    }\n",
       "\n",
       "    .dataframe thead th {\n",
       "        text-align: right;\n",
       "    }\n",
       "</style>\n",
       "<table border=\"1\" class=\"dataframe\">\n",
       "  <thead>\n",
       "    <tr style=\"text-align: right;\">\n",
       "      <th></th>\n",
       "      <th>company</th>\n",
       "      <th>product</th>\n",
       "      <th>typename</th>\n",
       "      <th>inches</th>\n",
       "      <th>screen_resolution</th>\n",
       "      <th>cpu</th>\n",
       "      <th>ram</th>\n",
       "      <th>gpu</th>\n",
       "      <th>opsys</th>\n",
       "      <th>weight</th>\n",
       "      <th>price_euros</th>\n",
       "      <th>cpu_frequency</th>\n",
       "      <th>cpu_manufacturer</th>\n",
       "      <th>gpu_manufacturer</th>\n",
       "      <th>memory_0_gb</th>\n",
       "      <th>memory_0_type</th>\n",
       "      <th>memory_1_gb</th>\n",
       "      <th>memory_1_type</th>\n",
       "    </tr>\n",
       "  </thead>\n",
       "  <tbody>\n",
       "    <tr>\n",
       "      <th>0</th>\n",
       "      <td>Apple</td>\n",
       "      <td>MacBook Pro</td>\n",
       "      <td>Ultrabook</td>\n",
       "      <td>13.3</td>\n",
       "      <td>2560x1600</td>\n",
       "      <td>Others Intel</td>\n",
       "      <td>8</td>\n",
       "      <td>Intel Iris Plus Graphics 640</td>\n",
       "      <td>macOS</td>\n",
       "      <td>1.37</td>\n",
       "      <td>1339.69</td>\n",
       "      <td>2.3</td>\n",
       "      <td>Intel</td>\n",
       "      <td>Intel</td>\n",
       "      <td>128</td>\n",
       "      <td>ssd</td>\n",
       "      <td>0</td>\n",
       "      <td>0</td>\n",
       "    </tr>\n",
       "    <tr>\n",
       "      <th>1</th>\n",
       "      <td>Apple</td>\n",
       "      <td>Macbook Air</td>\n",
       "      <td>Ultrabook</td>\n",
       "      <td>13.3</td>\n",
       "      <td>1440x900</td>\n",
       "      <td>Others Intel</td>\n",
       "      <td>8</td>\n",
       "      <td>Intel HD Graphics 6000</td>\n",
       "      <td>macOS</td>\n",
       "      <td>1.34</td>\n",
       "      <td>898.94</td>\n",
       "      <td>1.8</td>\n",
       "      <td>Intel</td>\n",
       "      <td>Intel</td>\n",
       "      <td>128</td>\n",
       "      <td>flash storage</td>\n",
       "      <td>0</td>\n",
       "      <td>0</td>\n",
       "    </tr>\n",
       "    <tr>\n",
       "      <th>2</th>\n",
       "      <td>HP</td>\n",
       "      <td>250 G6</td>\n",
       "      <td>Notebook</td>\n",
       "      <td>15.6</td>\n",
       "      <td>1920x1080</td>\n",
       "      <td>Intel Core i5</td>\n",
       "      <td>8</td>\n",
       "      <td>Intel HD Graphics 620</td>\n",
       "      <td>Outros</td>\n",
       "      <td>1.86</td>\n",
       "      <td>575.00</td>\n",
       "      <td>2.5</td>\n",
       "      <td>Intel</td>\n",
       "      <td>Intel</td>\n",
       "      <td>256</td>\n",
       "      <td>ssd</td>\n",
       "      <td>0</td>\n",
       "      <td>0</td>\n",
       "    </tr>\n",
       "    <tr>\n",
       "      <th>3</th>\n",
       "      <td>Apple</td>\n",
       "      <td>MacBook Pro</td>\n",
       "      <td>Ultrabook</td>\n",
       "      <td>15.4</td>\n",
       "      <td>2880x1800</td>\n",
       "      <td>Others Intel</td>\n",
       "      <td>16</td>\n",
       "      <td>AMD Radeon Pro 455</td>\n",
       "      <td>macOS</td>\n",
       "      <td>1.83</td>\n",
       "      <td>2537.45</td>\n",
       "      <td>2.7</td>\n",
       "      <td>Intel</td>\n",
       "      <td>AMD</td>\n",
       "      <td>512</td>\n",
       "      <td>ssd</td>\n",
       "      <td>0</td>\n",
       "      <td>0</td>\n",
       "    </tr>\n",
       "    <tr>\n",
       "      <th>4</th>\n",
       "      <td>Apple</td>\n",
       "      <td>MacBook Pro</td>\n",
       "      <td>Ultrabook</td>\n",
       "      <td>13.3</td>\n",
       "      <td>2560x1600</td>\n",
       "      <td>Others Intel</td>\n",
       "      <td>8</td>\n",
       "      <td>Intel Iris Plus Graphics 650</td>\n",
       "      <td>macOS</td>\n",
       "      <td>1.37</td>\n",
       "      <td>1803.60</td>\n",
       "      <td>3.1</td>\n",
       "      <td>Intel</td>\n",
       "      <td>Intel</td>\n",
       "      <td>256</td>\n",
       "      <td>ssd</td>\n",
       "      <td>0</td>\n",
       "      <td>0</td>\n",
       "    </tr>\n",
       "  </tbody>\n",
       "</table>\n",
       "</div>"
      ],
      "text/plain": [
       "  company      product   typename  inches screen_resolution            cpu  \\\n",
       "0   Apple  MacBook Pro  Ultrabook    13.3         2560x1600   Others Intel   \n",
       "1   Apple  Macbook Air  Ultrabook    13.3          1440x900   Others Intel   \n",
       "2      HP       250 G6   Notebook    15.6         1920x1080  Intel Core i5   \n",
       "3   Apple  MacBook Pro  Ultrabook    15.4         2880x1800   Others Intel   \n",
       "4   Apple  MacBook Pro  Ultrabook    13.3         2560x1600   Others Intel   \n",
       "\n",
       "  ram                           gpu   opsys weight  price_euros  \\\n",
       "0   8  Intel Iris Plus Graphics 640   macOS   1.37      1339.69   \n",
       "1   8        Intel HD Graphics 6000   macOS   1.34       898.94   \n",
       "2   8         Intel HD Graphics 620  Outros   1.86       575.00   \n",
       "3  16            AMD Radeon Pro 455   macOS   1.83      2537.45   \n",
       "4   8  Intel Iris Plus Graphics 650   macOS   1.37      1803.60   \n",
       "\n",
<<<<<<< HEAD
       "  cpu_manufacturer gpu_manufacturer  hdd  ssd  hybrid  flash_storage  \\\n",
       "0            Intel            Intel    0  128       0              0   \n",
       "1            Intel            Intel    0    0       0            128   \n",
       "2            Intel            Intel    0  256       0              0   \n",
       "3            Intel              AMD    0  512       0              0   \n",
       "4            Intel            Intel    0  256       0              0   \n",
       "\n",
       "    type_storage  \n",
       "0            ssd  \n",
       "1  flash storage  \n",
       "2            ssd  \n",
       "3            ssd  \n",
       "4            ssd  "
      ]
     },
     "execution_count": 17,
=======
       "  weight  price_euros cpu_frequency cpu_manufacturer gpu_manufacturer  \\\n",
       "0   1.37      1339.69           2.3            Intel            Intel   \n",
       "1   1.34       898.94           1.8            Intel            Intel   \n",
       "2   1.86       575.00           2.5            Intel            Intel   \n",
       "3   1.83      2537.45           2.7            Intel              AMD   \n",
       "4   1.37      1803.60           3.1            Intel            Intel   \n",
       "\n",
       "   memory_0_gb  memory_0_type  memory_1_gb memory_1_type  \n",
       "0          128            ssd            0             0  \n",
       "1          128  flash storage            0             0  \n",
       "2          256            ssd            0             0  \n",
       "3          512            ssd            0             0  \n",
       "4          256            ssd            0             0  "
      ]
     },
     "execution_count": 377,
>>>>>>> 9ced70f ('Update: Model')
     "metadata": {},
     "output_type": "execute_result"
    }
   ],
   "source": [
    "laptop_price.head()"
   ]
  },
  {
   "cell_type": "code",
<<<<<<< HEAD
   "execution_count": 18,
=======
   "execution_count": 378,
>>>>>>> 9ced70f ('Update: Model')
   "metadata": {},
   "outputs": [],
   "source": [
    "items = {\n",
    "    'ram': 'ram_gb',\n",
    "    'hdd': 'hdd_gb',\n",
    "    'ssd': 'ssd_gb',\n",
    "    'hybrid': 'hybrid_gb',\n",
    "    'flash_storage': 'flash_storage_gb',\n",
    "    'weight': 'weight_kg'\n",
    "}\n",
    "laptop_price.rename(columns=items, inplace=True)"
   ]
  },
  {
   "cell_type": "code",
<<<<<<< HEAD
   "execution_count": 19,
   "metadata": {},
   "outputs": [],
   "source": [
    "def downcasting(df, columns, type):\n",
    "    for column in columns:\n",
    "        df[column] = df[column].astype(type)\n",
    "    \n",
    "items = {\n",
    "    'uint8': ['ram_gb'],\n",
    "    'int16': ['hdd_gb', 'ssd_gb', 'hybrid_gb', 'flash_storage_gb'],\n",
    "    'float32': ['weight_kg', 'inches'],\n",
    "    'float64': ['price_euros'],\n",
    "    'category': ['company', 'typename', 'screen_resolution', 'cpu', 'gpu', 'opsys', 'product', 'cpu_manufacturer', 'gpu_manufacturer', 'type_storage']\n",
    "}\n",
    "    \n",
    "for tipo, coluna in items.items():\n",
    "    downcasting(laptop_price, coluna, tipo)    "
   ]
  },
  {
   "cell_type": "markdown",
   "metadata": {},
   "source": [
    "### Ver Redução de memoria"
   ]
  },
  {
   "cell_type": "code",
   "execution_count": 20,
   "metadata": {},
   "outputs": [
    {
     "name": "stdout",
     "output_type": "stream",
     "text": [
      "<class 'pandas.core.frame.DataFrame'>\n",
      "RangeIndex: 1303 entries, 0 to 1302\n",
      "Data columns (total 18 columns):\n",
      " #   Column             Non-Null Count  Dtype   \n",
      "---  ------             --------------  -----   \n",
      " 0   company            1303 non-null   category\n",
      " 1   product            1303 non-null   category\n",
      " 2   typename           1303 non-null   category\n",
      " 3   inches             1303 non-null   float32 \n",
      " 4   screen_resolution  1303 non-null   category\n",
      " 5   cpu                1303 non-null   category\n",
      " 6   ram_gb             1303 non-null   uint8   \n",
      " 7   gpu                1303 non-null   category\n",
      " 8   opsys              1303 non-null   category\n",
      " 9   weight_kg          1303 non-null   float32 \n",
      " 10  price_euros        1303 non-null   float64 \n",
      " 11  cpu_manufacturer   1303 non-null   category\n",
      " 12  gpu_manufacturer   1303 non-null   category\n",
      " 13  hdd_gb             1303 non-null   int16   \n",
      " 14  ssd_gb             1303 non-null   int16   \n",
      " 15  hybrid_gb          1303 non-null   int16   \n",
      " 16  flash_storage_gb   1303 non-null   int16   \n",
      " 17  type_storage       1303 non-null   category\n",
      "dtypes: category(10), float32(2), float64(1), int16(4), uint8(1)\n",
      "memory usage: 127.0 KB\n"
     ]
    }
   ],
   "source": [
    "laptop_price.info(memory_usage='deep')"
   ]
  },
  {
   "cell_type": "code",
   "execution_count": 21,
   "metadata": {},
   "outputs": [],
   "source": [
    "ordem = ['company', \n",
    "        'product', \n",
    "        'typename', \n",
    "        'inches', \n",
    "        'screen_resolution', \n",
    "        'cpu_manufacturer', \n",
    "        'cpu',\n",
    "        'gpu_manufacturer', \n",
    "        'gpu', \n",
    "        'ram_gb', \n",
    "        'type_storage',\n",
    "        'hdd_gb', \n",
    "        'ssd_gb', \n",
    "        'hybrid_gb', \n",
    "        'flash_storage_gb',\n",
    "        'opsys',\n",
    "        'weight_kg',\n",
    "        'price_euros'\n",
    "]\n",
    "\n",
    "laptop_price = laptop_price[ordem]"
   ]
  },
  {
   "cell_type": "code",
   "execution_count": 22,
=======
   "execution_count": 379,
>>>>>>> 9ced70f ('Update: Model')
   "metadata": {},
   "outputs": [
    {
     "data": {
      "text/html": [
       "<div>\n",
       "<style scoped>\n",
       "    .dataframe tbody tr th:only-of-type {\n",
       "        vertical-align: middle;\n",
       "    }\n",
       "\n",
       "    .dataframe tbody tr th {\n",
       "        vertical-align: top;\n",
       "    }\n",
       "\n",
       "    .dataframe thead th {\n",
       "        text-align: right;\n",
       "    }\n",
       "</style>\n",
       "<table border=\"1\" class=\"dataframe\">\n",
       "  <thead>\n",
       "    <tr style=\"text-align: right;\">\n",
       "      <th></th>\n",
       "      <th>company</th>\n",
       "      <th>product</th>\n",
       "      <th>typename</th>\n",
       "      <th>inches</th>\n",
       "      <th>screen_resolution</th>\n",
       "      <th>cpu</th>\n",
       "      <th>ram_gb</th>\n",
       "      <th>gpu</th>\n",
       "      <th>opsys</th>\n",
       "      <th>weight_kg</th>\n",
       "      <th>price_euros</th>\n",
       "      <th>cpu_frequency</th>\n",
       "      <th>cpu_manufacturer</th>\n",
       "      <th>gpu_manufacturer</th>\n",
       "      <th>memory_0_gb</th>\n",
       "      <th>memory_0_type</th>\n",
       "      <th>memory_1_gb</th>\n",
       "      <th>memory_1_type</th>\n",
       "    </tr>\n",
       "  </thead>\n",
       "  <tbody>\n",
       "    <tr>\n",
       "      <th>0</th>\n",
       "      <td>Apple</td>\n",
       "      <td>MacBook Pro</td>\n",
       "      <td>Ultrabook</td>\n",
       "      <td>13.3</td>\n",
       "      <td>2560x1600</td>\n",
<<<<<<< HEAD
       "      <td>Intel</td>\n",
       "      <td>Others Intel</td>\n",
       "      <td>Intel</td>\n",
       "      <td>Intel Iris Plus Graphics 640</td>\n",
=======
       "      <td>Intel Core i5 2.3GHz</td>\n",
>>>>>>> 9ced70f ('Update: Model')
       "      <td>8</td>\n",
       "      <td>Intel Iris Plus Graphics 640</td>\n",
       "      <td>macOS</td>\n",
       "      <td>1.37</td>\n",
       "      <td>1339.69</td>\n",
       "      <td>2.3</td>\n",
       "      <td>Intel</td>\n",
       "      <td>Intel</td>\n",
       "      <td>128</td>\n",
       "      <td>ssd</td>\n",
       "      <td>0</td>\n",
       "      <td>0</td>\n",
       "    </tr>\n",
       "    <tr>\n",
       "      <th>1</th>\n",
       "      <td>Apple</td>\n",
       "      <td>Macbook Air</td>\n",
       "      <td>Ultrabook</td>\n",
       "      <td>13.3</td>\n",
       "      <td>1440x900</td>\n",
       "      <td>Intel Core i5 1.8GHz</td>\n",
       "      <td>8</td>\n",
       "      <td>Intel HD Graphics 6000</td>\n",
       "      <td>macOS</td>\n",
       "      <td>1.34</td>\n",
       "      <td>898.94</td>\n",
       "      <td>1.8</td>\n",
       "      <td>Intel</td>\n",
       "      <td>Intel</td>\n",
       "      <td>128</td>\n",
       "      <td>flash storage</td>\n",
       "      <td>0</td>\n",
       "      <td>0</td>\n",
       "    </tr>\n",
       "    <tr>\n",
       "      <th>2</th>\n",
       "      <td>HP</td>\n",
       "      <td>250 G6</td>\n",
       "      <td>Notebook</td>\n",
       "      <td>15.6</td>\n",
       "      <td>1920x1080</td>\n",
       "      <td>Intel Core i5 7200U 2.5GHz</td>\n",
       "      <td>8</td>\n",
       "      <td>Intel HD Graphics 620</td>\n",
       "      <td>Outros</td>\n",
       "      <td>1.86</td>\n",
       "      <td>575.00</td>\n",
       "      <td>2.5</td>\n",
       "      <td>Intel</td>\n",
       "      <td>Intel</td>\n",
       "      <td>256</td>\n",
       "      <td>ssd</td>\n",
       "      <td>0</td>\n",
       "      <td>0</td>\n",
       "    </tr>\n",
       "    <tr>\n",
       "      <th>3</th>\n",
       "      <td>Apple</td>\n",
       "      <td>MacBook Pro</td>\n",
       "      <td>Ultrabook</td>\n",
       "      <td>15.4</td>\n",
       "      <td>2880x1800</td>\n",
       "      <td>Intel Core i7 2.7GHz</td>\n",
       "      <td>16</td>\n",
       "      <td>AMD Radeon Pro 455</td>\n",
       "      <td>macOS</td>\n",
       "      <td>1.83</td>\n",
       "      <td>2537.45</td>\n",
       "      <td>2.7</td>\n",
       "      <td>Intel</td>\n",
       "      <td>AMD</td>\n",
       "      <td>512</td>\n",
       "      <td>ssd</td>\n",
       "      <td>0</td>\n",
       "      <td>0</td>\n",
       "    </tr>\n",
       "    <tr>\n",
       "      <th>4</th>\n",
       "      <td>Apple</td>\n",
       "      <td>MacBook Pro</td>\n",
       "      <td>Ultrabook</td>\n",
       "      <td>13.3</td>\n",
       "      <td>2560x1600</td>\n",
       "      <td>Intel Core i5 3.1GHz</td>\n",
       "      <td>8</td>\n",
       "      <td>Intel Iris Plus Graphics 650</td>\n",
       "      <td>macOS</td>\n",
       "      <td>1.37</td>\n",
       "      <td>1803.60</td>\n",
       "      <td>3.1</td>\n",
       "      <td>Intel</td>\n",
       "      <td>Intel</td>\n",
       "      <td>256</td>\n",
       "      <td>ssd</td>\n",
       "      <td>0</td>\n",
       "      <td>0</td>\n",
       "    </tr>\n",
       "  </tbody>\n",
       "</table>\n",
       "</div>"
      ],
      "text/plain": [
       "  company      product   typename  inches screen_resolution  \\\n",
       "0   Apple  MacBook Pro  Ultrabook    13.3         2560x1600   \n",
       "1   Apple  Macbook Air  Ultrabook    13.3          1440x900   \n",
       "2      HP       250 G6   Notebook    15.6         1920x1080   \n",
       "3   Apple  MacBook Pro  Ultrabook    15.4         2880x1800   \n",
       "4   Apple  MacBook Pro  Ultrabook    13.3         2560x1600   \n",
       "\n",
       "                          cpu ram_gb                           gpu   opsys  \\\n",
       "0        Intel Core i5 2.3GHz      8  Intel Iris Plus Graphics 640   macOS   \n",
       "1        Intel Core i5 1.8GHz      8        Intel HD Graphics 6000   macOS   \n",
       "2  Intel Core i5 7200U 2.5GHz      8         Intel HD Graphics 620  Outros   \n",
       "3        Intel Core i7 2.7GHz     16            AMD Radeon Pro 455   macOS   \n",
       "4        Intel Core i5 3.1GHz      8  Intel Iris Plus Graphics 650   macOS   \n",
       "\n",
       "  weight_kg  price_euros cpu_frequency cpu_manufacturer gpu_manufacturer  \\\n",
       "0      1.37      1339.69           2.3            Intel            Intel   \n",
       "1      1.34       898.94           1.8            Intel            Intel   \n",
       "2      1.86       575.00           2.5            Intel            Intel   \n",
       "3      1.83      2537.45           2.7            Intel              AMD   \n",
       "4      1.37      1803.60           3.1            Intel            Intel   \n",
       "\n",
       "   memory_0_gb  memory_0_type  memory_1_gb memory_1_type  \n",
       "0          128            ssd            0             0  \n",
       "1          128  flash storage            0             0  \n",
       "2          256            ssd            0             0  \n",
       "3          512            ssd            0             0  \n",
       "4          256            ssd            0             0  "
      ]
     },
     "execution_count": 379,
     "metadata": {},
     "output_type": "execute_result"
    }
   ],
   "source": [
    "laptop_price.head()"
   ]
  },
  {
   "cell_type": "code",
   "execution_count": 380,
   "metadata": {},
   "outputs": [],
   "source": [
    "def downcasting(df, columns, type):\n",
    "    for column in columns:\n",
    "        df[column] = df[column].astype(type)\n",
    "\n",
    "laptop_price.drop(index=1191, inplace=True)\n",
    "laptop_price.drop(columns=['product', 'cpu', 'gpu'], inplace=True)\n",
    "    \n",
    "items = {\n",
    "    'uint8': ['ram_gb'],\n",
    "    'int16': ['memory_0_gb', 'memory_1_gb'],\n",
    "    'float32': ['weight_kg', 'inches', 'cpu_frequency'],\n",
    "    'float64': ['price_euros'],\n",
    "    'category': ['company', 'typename', 'screen_resolution', 'opsys', 'cpu_manufacturer', 'gpu_manufacturer', 'memory_0_type', 'memory_1_type']\n",
    "}\n",
    "    \n",
    "for tipo, coluna in items.items():\n",
    "    downcasting(laptop_price, coluna, tipo)    "
   ]
  },
  {
   "cell_type": "markdown",
   "metadata": {},
   "source": [
    "### Ver Redução de memoria"
   ]
  },
  {
   "cell_type": "code",
   "execution_count": 381,
   "metadata": {},
   "outputs": [
    {
     "name": "stdout",
     "output_type": "stream",
     "text": [
      "<class 'pandas.core.frame.DataFrame'>\n",
      "Int64Index: 1302 entries, 0 to 1302\n",
      "Data columns (total 15 columns):\n",
      " #   Column             Non-Null Count  Dtype   \n",
      "---  ------             --------------  -----   \n",
      " 0   company            1302 non-null   category\n",
      " 1   typename           1302 non-null   category\n",
      " 2   inches             1302 non-null   float32 \n",
      " 3   screen_resolution  1302 non-null   category\n",
      " 4   ram_gb             1302 non-null   uint8   \n",
      " 5   opsys              1302 non-null   category\n",
      " 6   weight_kg          1302 non-null   float32 \n",
      " 7   price_euros        1302 non-null   float64 \n",
      " 8   cpu_frequency      1302 non-null   float32 \n",
      " 9   cpu_manufacturer   1302 non-null   category\n",
      " 10  gpu_manufacturer   1302 non-null   category\n",
      " 11  memory_0_gb        1302 non-null   int16   \n",
      " 12  memory_0_type      1302 non-null   category\n",
      " 13  memory_1_gb        1302 non-null   int16   \n",
      " 14  memory_1_type      1302 non-null   category\n",
      "dtypes: category(8), float32(3), float64(1), int16(2), uint8(1)\n",
      "memory usage: 58.0 KB\n"
     ]
    }
   ],
   "source": [
    "laptop_price.info(memory_usage='deep')"
   ]
  },
  {
   "cell_type": "code",
   "execution_count": 382,
   "metadata": {},
   "outputs": [],
   "source": [
    "ordem = ['company',  \n",
    "        'typename', \n",
    "        'inches', \n",
    "        'screen_resolution', \n",
    "        'cpu_manufacturer', \n",
    "        'cpu_frequency',\n",
    "        'gpu_manufacturer',\n",
    "        'ram_gb', \n",
    "        'memory_0_gb', \n",
    "        'memory_0_type', \n",
    "        'memory_1_gb', \n",
    "        'memory_1_type',\n",
    "        'opsys',\n",
    "        'weight_kg',\n",
    "        'price_euros'\n",
    "]\n",
    "\n",
    "laptop_price = laptop_price[ordem]"
   ]
  },
  {
   "cell_type": "code",
   "execution_count": 383,
   "metadata": {},
   "outputs": [
    {
     "data": {
      "text/html": [
       "<div>\n",
       "<style scoped>\n",
       "    .dataframe tbody tr th:only-of-type {\n",
       "        vertical-align: middle;\n",
       "    }\n",
       "\n",
       "    .dataframe tbody tr th {\n",
       "        vertical-align: top;\n",
       "    }\n",
       "\n",
       "    .dataframe thead th {\n",
       "        text-align: right;\n",
       "    }\n",
       "</style>\n",
       "<table border=\"1\" class=\"dataframe\">\n",
       "  <thead>\n",
       "    <tr style=\"text-align: right;\">\n",
       "      <th></th>\n",
       "      <th>company</th>\n",
       "      <th>typename</th>\n",
       "      <th>inches</th>\n",
       "      <th>screen_resolution</th>\n",
       "      <th>cpu_manufacturer</th>\n",
       "      <th>cpu_frequency</th>\n",
       "      <th>gpu_manufacturer</th>\n",
       "      <th>ram_gb</th>\n",
       "      <th>memory_0_gb</th>\n",
       "      <th>memory_0_type</th>\n",
       "      <th>memory_1_gb</th>\n",
       "      <th>memory_1_type</th>\n",
       "      <th>opsys</th>\n",
       "      <th>weight_kg</th>\n",
       "      <th>price_euros</th>\n",
       "    </tr>\n",
       "  </thead>\n",
       "  <tbody>\n",
       "    <tr>\n",
       "      <th>0</th>\n",
       "      <td>Apple</td>\n",
       "      <td>Ultrabook</td>\n",
       "      <td>13.3</td>\n",
       "      <td>2560x1600</td>\n",
       "      <td>Intel</td>\n",
       "      <td>2.3</td>\n",
       "      <td>Intel</td>\n",
       "      <td>8</td>\n",
       "      <td>128</td>\n",
       "      <td>ssd</td>\n",
       "      <td>0</td>\n",
       "      <td>0</td>\n",
       "      <td>macOS</td>\n",
       "      <td>1.37</td>\n",
       "      <td>1339.69</td>\n",
       "    </tr>\n",
       "    <tr>\n",
       "      <th>1</th>\n",
       "      <td>Apple</td>\n",
       "      <td>Ultrabook</td>\n",
       "      <td>13.3</td>\n",
       "      <td>1440x900</td>\n",
       "      <td>Intel</td>\n",
<<<<<<< HEAD
       "      <td>Others Intel</td>\n",
=======
       "      <td>1.8</td>\n",
>>>>>>> 9ced70f ('Update: Model')
       "      <td>Intel</td>\n",
       "      <td>8</td>\n",
       "      <td>128</td>\n",
       "      <td>flash storage</td>\n",
       "      <td>0</td>\n",
       "      <td>0</td>\n",
       "      <td>macOS</td>\n",
       "      <td>1.34</td>\n",
       "      <td>898.94</td>\n",
       "    </tr>\n",
       "    <tr>\n",
       "      <th>2</th>\n",
       "      <td>HP</td>\n",
       "      <td>Notebook</td>\n",
       "      <td>15.6</td>\n",
       "      <td>1920x1080</td>\n",
       "      <td>Intel</td>\n",
<<<<<<< HEAD
       "      <td>Intel Core i5</td>\n",
=======
       "      <td>2.5</td>\n",
>>>>>>> 9ced70f ('Update: Model')
       "      <td>Intel</td>\n",
       "      <td>8</td>\n",
       "      <td>256</td>\n",
       "      <td>ssd</td>\n",
       "      <td>0</td>\n",
       "      <td>0</td>\n",
       "      <td>Outros</td>\n",
       "      <td>1.86</td>\n",
       "      <td>575.00</td>\n",
       "    </tr>\n",
       "    <tr>\n",
       "      <th>3</th>\n",
       "      <td>Apple</td>\n",
       "      <td>Ultrabook</td>\n",
       "      <td>15.4</td>\n",
       "      <td>2880x1800</td>\n",
       "      <td>Intel</td>\n",
<<<<<<< HEAD
       "      <td>Others Intel</td>\n",
=======
       "      <td>2.7</td>\n",
>>>>>>> 9ced70f ('Update: Model')
       "      <td>AMD</td>\n",
       "      <td>16</td>\n",
       "      <td>512</td>\n",
       "      <td>ssd</td>\n",
       "      <td>0</td>\n",
       "      <td>0</td>\n",
       "      <td>macOS</td>\n",
       "      <td>1.83</td>\n",
       "      <td>2537.45</td>\n",
       "    </tr>\n",
       "    <tr>\n",
       "      <th>4</th>\n",
       "      <td>Apple</td>\n",
       "      <td>Ultrabook</td>\n",
       "      <td>13.3</td>\n",
       "      <td>2560x1600</td>\n",
       "      <td>Intel</td>\n",
<<<<<<< HEAD
       "      <td>Others Intel</td>\n",
=======
       "      <td>3.1</td>\n",
>>>>>>> 9ced70f ('Update: Model')
       "      <td>Intel</td>\n",
       "      <td>8</td>\n",
       "      <td>256</td>\n",
       "      <td>ssd</td>\n",
       "      <td>0</td>\n",
       "      <td>0</td>\n",
       "      <td>macOS</td>\n",
       "      <td>1.37</td>\n",
       "      <td>1803.60</td>\n",
       "    </tr>\n",
       "  </tbody>\n",
       "</table>\n",
       "</div>"
      ],
      "text/plain": [
       "  company   typename  inches screen_resolution cpu_manufacturer  \\\n",
       "0   Apple  Ultrabook    13.3         2560x1600            Intel   \n",
       "1   Apple  Ultrabook    13.3          1440x900            Intel   \n",
       "2      HP   Notebook    15.6         1920x1080            Intel   \n",
       "3   Apple  Ultrabook    15.4         2880x1800            Intel   \n",
       "4   Apple  Ultrabook    13.3         2560x1600            Intel   \n",
       "\n",
<<<<<<< HEAD
       "             cpu gpu_manufacturer                           gpu  ram_gb  \\\n",
       "0   Others Intel            Intel  Intel Iris Plus Graphics 640       8   \n",
       "1   Others Intel            Intel        Intel HD Graphics 6000       8   \n",
       "2  Intel Core i5            Intel         Intel HD Graphics 620       8   \n",
       "3   Others Intel              AMD            AMD Radeon Pro 455      16   \n",
       "4   Others Intel            Intel  Intel Iris Plus Graphics 650       8   \n",
       "\n",
       "    type_storage  hdd_gb  ssd_gb  hybrid_gb  flash_storage_gb   opsys  \\\n",
       "0            ssd       0     128          0                 0   macOS   \n",
       "1  flash storage       0       0          0               128   macOS   \n",
       "2            ssd       0     256          0                 0  Outros   \n",
       "3            ssd       0     512          0                 0   macOS   \n",
       "4            ssd       0     256          0                 0   macOS   \n",
       "\n",
       "   weight_kg  price_euros  \n",
       "0       1.37      1339.69  \n",
       "1       1.34       898.94  \n",
       "2       1.86       575.00  \n",
       "3       1.83      2537.45  \n",
       "4       1.37      1803.60  "
      ]
     },
     "execution_count": 22,
=======
       "   cpu_frequency gpu_manufacturer  ram_gb  memory_0_gb  memory_0_type  \\\n",
       "0            2.3            Intel       8          128            ssd   \n",
       "1            1.8            Intel       8          128  flash storage   \n",
       "2            2.5            Intel       8          256            ssd   \n",
       "3            2.7              AMD      16          512            ssd   \n",
       "4            3.1            Intel       8          256            ssd   \n",
       "\n",
       "   memory_1_gb memory_1_type   opsys  weight_kg  price_euros  \n",
       "0            0             0   macOS       1.37      1339.69  \n",
       "1            0             0   macOS       1.34       898.94  \n",
       "2            0             0  Outros       1.86       575.00  \n",
       "3            0             0   macOS       1.83      2537.45  \n",
       "4            0             0   macOS       1.37      1803.60  "
      ]
     },
     "execution_count": 383,
>>>>>>> 9ced70f ('Update: Model')
     "metadata": {},
     "output_type": "execute_result"
    }
   ],
   "source": [
    "laptop_price.head()"
   ]
  },
  {
   "cell_type": "markdown",
   "metadata": {},
   "source": [
    "### Salvar para Pickle"
   ]
  },
  {
   "cell_type": "code",
<<<<<<< HEAD
   "execution_count": 23,
=======
   "execution_count": 384,
>>>>>>> 9ced70f ('Update: Model')
   "metadata": {},
   "outputs": [],
   "source": [
    "laptop_price.to_pickle(\"../datasets/processed/laptop_price.pkl\")"
   ]
  }
 ],
 "metadata": {
  "kernelspec": {
   "display_name": "Python 3.9.13 ('base')",
   "language": "python",
   "name": "python3"
  },
  "language_info": {
   "codemirror_mode": {
    "name": "ipython",
    "version": 3
   },
   "file_extension": ".py",
   "mimetype": "text/x-python",
   "name": "python",
   "nbconvert_exporter": "python",
   "pygments_lexer": "ipython3",
   "version": "3.9.13"
  },
  "orig_nbformat": 4,
  "vscode": {
   "interpreter": {
    "hash": "d674aba619e9128d5d95f68874c090de0e48b8e67c1ba838c5d294b8a6cf0663"
   }
  }
 },
 "nbformat": 4,
 "nbformat_minor": 2
}
